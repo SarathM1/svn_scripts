{
 "cells": [
  {
   "cell_type": "markdown",
   "metadata": {},
   "source": [
    "# SVN Dashboard\n",
    "## Instructions\n",
    "- Run each cell using _shift+Enter_ (runs current cell and selects below cell) or _ctrl+Enter_ (just run current)\n",
    "> Sarath M"
   ]
  },
  {
   "cell_type": "code",
   "execution_count": 1,
   "metadata": {
    "collapsed": true
   },
   "outputs": [],
   "source": [
    "import pandas as pd"
   ]
  },
  {
   "cell_type": "markdown",
   "metadata": {},
   "source": [
    "## Reload"
   ]
  },
  {
   "cell_type": "code",
   "execution_count": 2,
   "metadata": {},
   "outputs": [
    {
     "name": "stdout",
     "output_type": "stream",
     "text": [
      "Sat  24 Mar 2018\n"
     ]
    }
   ],
   "source": [
    "import re\n",
    "string =  '(Sat, 24 Mar 2018)'\n",
    "\n",
    "m = re.search('\\((\\w+),(\\s\\w+\\s\\w+\\s\\w+)', string)\n",
    "if m:\n",
    "    wod = m.group(1)\n",
    "    date = m.group(2)\n",
    "    print wod, date"
   ]
  },
  {
   "cell_type": "code",
   "execution_count": 15,
   "metadata": {},
   "outputs": [],
   "source": [
    "%run proc.py"
   ]
  },
  {
   "cell_type": "code",
   "execution_count": 16,
   "metadata": {
    "collapsed": true
   },
   "outputs": [],
   "source": [
    "df = pd.read_csv('repo_status.csv', index_col=0)"
   ]
  },
  {
   "cell_type": "markdown",
   "metadata": {},
   "source": [
    "## Overview\n",
    "- **path**: path to module\n",
    "- **owner**: module owner's name\n",
    "- **author**: Author of the last commit\n",
    "- **date**: Date of last commit\n",
    "- **repo_state**: *clean* means no uncommited changes, *dirty* otherwise\n",
    "- **revision_num**: Revision number of the working copy\n",
    "- **unversioned**: item is not under version control\n",
    "- **modified**: Number of _modified_ files that are not _commited_\n",
    "- **deleted_svn**: File's that are _deleted_ using _svn rm_ command; but the change has not been commited\n",
    "- **deleted_rm**: File's that are _deleted_ in other ways than _svn rm_ command; but the change has not been commited\n",
    "- **added**: Files added but not commited"
   ]
  },
  {
   "cell_type": "markdown",
   "metadata": {},
   "source": [
    "## Repo state"
   ]
  },
  {
   "cell_type": "code",
   "execution_count": 6,
   "metadata": {},
   "outputs": [
    {
     "data": {
      "text/html": [
       "<div>\n",
       "<style scoped>\n",
       "    .dataframe tbody tr th:only-of-type {\n",
       "        vertical-align: middle;\n",
       "    }\n",
       "\n",
       "    .dataframe tbody tr th {\n",
       "        vertical-align: top;\n",
       "    }\n",
       "\n",
       "    .dataframe thead th {\n",
       "        text-align: right;\n",
       "    }\n",
       "</style>\n",
       "<table border=\"1\" class=\"dataframe\">\n",
       "  <thead>\n",
       "    <tr style=\"text-align: right;\">\n",
       "      <th></th>\n",
       "      <th>path</th>\n",
       "      <th>owner</th>\n",
       "      <th>repo_state</th>\n",
       "    </tr>\n",
       "  </thead>\n",
       "  <tbody>\n",
       "    <tr>\n",
       "      <th>0</th>\n",
       "      <td>~/project1_work</td>\n",
       "      <td>Sarath M</td>\n",
       "      <td>dirty</td>\n",
       "    </tr>\n",
       "  </tbody>\n",
       "</table>\n",
       "</div>"
      ],
      "text/plain": [
       "              path     owner repo_state\n",
       "0  ~/project1_work  Sarath M      dirty"
      ]
     },
     "execution_count": 6,
     "metadata": {},
     "output_type": "execute_result"
    }
   ],
   "source": [
    "df[['path', 'owner', 'repo_state']]"
   ]
  },
  {
   "cell_type": "markdown",
   "metadata": {},
   "source": [
    "## Detailed view"
   ]
  },
  {
   "cell_type": "code",
   "execution_count": 19,
   "metadata": {},
   "outputs": [
    {
     "data": {
      "text/html": [
       "<div>\n",
       "<style scoped>\n",
       "    .dataframe tbody tr th:only-of-type {\n",
       "        vertical-align: middle;\n",
       "    }\n",
       "\n",
       "    .dataframe tbody tr th {\n",
       "        vertical-align: top;\n",
       "    }\n",
       "\n",
       "    .dataframe thead th {\n",
       "        text-align: right;\n",
       "    }\n",
       "</style>\n",
       "<table border=\"1\" class=\"dataframe\">\n",
       "  <thead>\n",
       "    <tr style=\"text-align: right;\">\n",
       "      <th></th>\n",
       "      <th>path</th>\n",
       "      <th>owner</th>\n",
       "      <th>author</th>\n",
       "      <th>date_commit</th>\n",
       "      <th>time_commit</th>\n",
       "      <th>repo_state</th>\n",
       "      <th>revision_num</th>\n",
       "      <th>unversioned</th>\n",
       "      <th>modified</th>\n",
       "      <th>deleted_svn</th>\n",
       "      <th>deleted_rm</th>\n",
       "      <th>added</th>\n",
       "    </tr>\n",
       "  </thead>\n",
       "  <tbody>\n",
       "    <tr>\n",
       "      <th>0</th>\n",
       "      <td>~/project1_work</td>\n",
       "      <td>Sarath M</td>\n",
       "      <td>sm</td>\n",
       "      <td>Sat, 24 Mar 2018</td>\n",
       "      <td>13:28:10</td>\n",
       "      <td>dirty</td>\n",
       "      <td>2</td>\n",
       "      <td>1</td>\n",
       "      <td>0</td>\n",
       "      <td>1</td>\n",
       "      <td>0</td>\n",
       "      <td>1</td>\n",
       "    </tr>\n",
       "  </tbody>\n",
       "</table>\n",
       "</div>"
      ],
      "text/plain": [
       "              path     owner author       date_commit time_commit repo_state  \\\n",
       "0  ~/project1_work  Sarath M     sm  Sat, 24 Mar 2018    13:28:10      dirty   \n",
       "\n",
       "   revision_num  unversioned  modified  deleted_svn  deleted_rm  added  \n",
       "0             2            1         0            1           0      1  "
      ]
     },
     "execution_count": 19,
     "metadata": {},
     "output_type": "execute_result"
    }
   ],
   "source": [
    "df[['path', 'owner', 'author', 'date_commit', 'time_commit', 'repo_state', 'revision_num', 'unversioned', 'modified', 'deleted_svn', 'deleted_rm', 'added']]   "
   ]
  }
 ],
 "metadata": {
  "kernelspec": {
   "display_name": "Python 2",
   "language": "python",
   "name": "python2"
  },
  "language_info": {
   "codemirror_mode": {
    "name": "ipython",
    "version": 2
   },
   "file_extension": ".py",
   "mimetype": "text/x-python",
   "name": "python",
   "nbconvert_exporter": "python",
   "pygments_lexer": "ipython2",
   "version": "2.7.12"
  }
 },
 "nbformat": 4,
 "nbformat_minor": 2
}
