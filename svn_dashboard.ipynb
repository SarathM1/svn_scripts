{
 "cells": [
  {
   "cell_type": "markdown",
   "metadata": {},
   "source": [
    "# SVN Dashboard\n",
    "## Instructions\n",
    "- Run each cell using _shift+Enter_ (runs current cell and selects below cell) or _ctrl+Enter_ (just run current)\n",
    "> Sarath M"
   ]
  },
  {
   "cell_type": "code",
   "execution_count": 1,
   "metadata": {},
   "outputs": [],
   "source": [
    "import pandas as pd"
   ]
  },
  {
   "cell_type": "markdown",
   "metadata": {},
   "source": [
    "## Reload"
   ]
  },
  {
   "cell_type": "code",
   "execution_count": 2,
   "metadata": {},
   "outputs": [
    {
     "name": "stdout",
     "output_type": "stream",
     "text": [
      "Sat  24 Mar 2018\n"
     ]
    }
   ],
   "source": [
    "import re\n",
    "string =  '(Sat, 24 Mar 2018)'\n",
    "\n",
    "m = re.search('\\((\\w+),(\\s\\w+\\s\\w+\\s\\w+)', string)\n",
    "if m:\n",
    "    wod = m.group(1)\n",
    "    date = m.group(2)\n",
    "    print (wod, date)"
   ]
  },
  {
   "cell_type": "code",
   "execution_count": 3,
   "metadata": {},
   "outputs": [],
   "source": [
    "import subprocess\n",
    "import yaml\n",
    "import pandas as pd\n",
    "import re\n",
    "import yodl"
   ]
  },
  {
   "cell_type": "code",
   "execution_count": 4,
   "metadata": {},
   "outputs": [
    {
     "name": "stdout",
     "output_type": "stream",
     "text": [
      "        author\n",
      "0  sreejith.ps\n",
      "1  sreejith.ps\n"
     ]
    }
   ],
   "source": [
    "%run proc.py"
   ]
  },
  {
   "cell_type": "code",
   "execution_count": 5,
   "metadata": {},
   "outputs": [],
   "source": [
    "df = pd.read_csv('repo_status.csv', index_col=0)"
   ]
  },
  {
   "cell_type": "markdown",
   "metadata": {},
   "source": [
    "## Overview\n",
    "- **path**: path to module\n",
    "- **owner**: module owner's name\n",
    "- **author**: Author of the last commit\n",
    "- **date**: Date of last commit\n",
    "- **repo_state**: *clean* means no uncommited changes, *dirty* otherwise\n",
    "- **revision_num**: Revision number of the working copy\n",
    "- **unversioned**: item is not under version control\n",
    "- **modified**: Number of _modified_ files that are not _commited_\n",
    "- **deleted_svn**: File's that are _deleted_ using _svn rm_ command; but the change has not been commited\n",
    "- **deleted_rm**: File's that are _deleted_ in other ways than _svn rm_ command; but the change has not been commited\n",
    "- **added**: Files added but not commited"
   ]
  },
  {
   "cell_type": "markdown",
   "metadata": {},
   "source": [
    "## Repo state"
   ]
  },
  {
   "cell_type": "code",
   "execution_count": 6,
   "metadata": {},
   "outputs": [
    {
     "data": {
      "text/html": [
       "<div>\n",
       "<style scoped>\n",
       "    .dataframe tbody tr th:only-of-type {\n",
       "        vertical-align: middle;\n",
       "    }\n",
       "\n",
       "    .dataframe tbody tr th {\n",
       "        vertical-align: top;\n",
       "    }\n",
       "\n",
       "    .dataframe thead th {\n",
       "        text-align: right;\n",
       "    }\n",
       "</style>\n",
       "<table border=\"1\" class=\"dataframe\">\n",
       "  <thead>\n",
       "    <tr style=\"text-align: right;\">\n",
       "      <th></th>\n",
       "      <th>path</th>\n",
       "      <th>owner</th>\n",
       "      <th>repo_state</th>\n",
       "    </tr>\n",
       "  </thead>\n",
       "  <tbody>\n",
       "    <tr>\n",
       "      <th>0</th>\n",
       "      <td>~/Parvathy_svn/ParvathyA_Sprint_6_001/Autonomo...</td>\n",
       "      <td>Parvathy A</td>\n",
       "      <td>dirty</td>\n",
       "    </tr>\n",
       "    <tr>\n",
       "      <th>1</th>\n",
       "      <td>~/Parvathy_svn/ParvathyA_Sprint_4_001/Autonomo...</td>\n",
       "      <td>Parvathy</td>\n",
       "      <td>dirty</td>\n",
       "    </tr>\n",
       "  </tbody>\n",
       "</table>\n",
       "</div>"
      ],
      "text/plain": [
       "                                                path       owner repo_state\n",
       "0  ~/Parvathy_svn/ParvathyA_Sprint_6_001/Autonomo...  Parvathy A      dirty\n",
       "1  ~/Parvathy_svn/ParvathyA_Sprint_4_001/Autonomo...    Parvathy      dirty"
      ]
     },
     "execution_count": 6,
     "metadata": {},
     "output_type": "execute_result"
    }
   ],
   "source": [
    "df[['path', 'owner', 'repo_state']]"
   ]
  },
  {
   "cell_type": "markdown",
   "metadata": {},
   "source": [
    "## Detailed view"
   ]
  },
  {
   "cell_type": "code",
   "execution_count": 7,
   "metadata": {},
   "outputs": [
    {
     "data": {
      "text/html": [
       "<div>\n",
       "<style scoped>\n",
       "    .dataframe tbody tr th:only-of-type {\n",
       "        vertical-align: middle;\n",
       "    }\n",
       "\n",
       "    .dataframe tbody tr th {\n",
       "        vertical-align: top;\n",
       "    }\n",
       "\n",
       "    .dataframe thead th {\n",
       "        text-align: right;\n",
       "    }\n",
       "</style>\n",
       "<table border=\"1\" class=\"dataframe\">\n",
       "  <thead>\n",
       "    <tr style=\"text-align: right;\">\n",
       "      <th></th>\n",
       "      <th>path</th>\n",
       "      <th>owner</th>\n",
       "      <th>author</th>\n",
       "      <th>date_commit</th>\n",
       "      <th>time_commit</th>\n",
       "      <th>repo_state</th>\n",
       "      <th>revision_num</th>\n",
       "      <th>unversioned</th>\n",
       "      <th>modified</th>\n",
       "      <th>deleted_svn</th>\n",
       "      <th>deleted_rm</th>\n",
       "      <th>added</th>\n",
       "    </tr>\n",
       "  </thead>\n",
       "  <tbody>\n",
       "    <tr>\n",
       "      <th>0</th>\n",
       "      <td>~/Parvathy_svn/ParvathyA_Sprint_6_001/Autonomo...</td>\n",
       "      <td>Parvathy A</td>\n",
       "      <td>sreejith.ps</td>\n",
       "      <td>Wed, 21 Mar 2018</td>\n",
       "      <td>14:13:35</td>\n",
       "      <td>dirty</td>\n",
       "      <td>4369</td>\n",
       "      <td>0</td>\n",
       "      <td>0</td>\n",
       "      <td>0</td>\n",
       "      <td>0</td>\n",
       "      <td>0</td>\n",
       "    </tr>\n",
       "    <tr>\n",
       "      <th>1</th>\n",
       "      <td>~/Parvathy_svn/ParvathyA_Sprint_4_001/Autonomo...</td>\n",
       "      <td>Parvathy</td>\n",
       "      <td>sreejith.ps</td>\n",
       "      <td>Wed, 14 Mar 2018</td>\n",
       "      <td>11:47:15</td>\n",
       "      <td>dirty</td>\n",
       "      <td>4241</td>\n",
       "      <td>0</td>\n",
       "      <td>0</td>\n",
       "      <td>0</td>\n",
       "      <td>0</td>\n",
       "      <td>0</td>\n",
       "    </tr>\n",
       "  </tbody>\n",
       "</table>\n",
       "</div>"
      ],
      "text/plain": [
       "                                                path       owner       author  \\\n",
       "0  ~/Parvathy_svn/ParvathyA_Sprint_6_001/Autonomo...  Parvathy A  sreejith.ps   \n",
       "1  ~/Parvathy_svn/ParvathyA_Sprint_4_001/Autonomo...    Parvathy  sreejith.ps   \n",
       "\n",
       "        date_commit time_commit repo_state  revision_num  unversioned  \\\n",
       "0  Wed, 21 Mar 2018    14:13:35      dirty          4369            0   \n",
       "1  Wed, 14 Mar 2018    11:47:15      dirty          4241            0   \n",
       "\n",
       "   modified  deleted_svn  deleted_rm  added  \n",
       "0         0            0           0      0  \n",
       "1         0            0           0      0  "
      ]
     },
     "execution_count": 7,
     "metadata": {},
     "output_type": "execute_result"
    }
   ],
   "source": [
    "df[['path', 'owner', 'author', 'date_commit', 'time_commit', 'repo_state', 'revision_num', 'unversioned', 'modified', 'deleted_svn', 'deleted_rm', 'added']]   "
   ]
  },
  {
   "cell_type": "code",
   "execution_count": 8,
   "metadata": {},
   "outputs": [
    {
     "data": {
      "text/html": [
       "<div>\n",
       "<style scoped>\n",
       "    .dataframe tbody tr th:only-of-type {\n",
       "        vertical-align: middle;\n",
       "    }\n",
       "\n",
       "    .dataframe tbody tr th {\n",
       "        vertical-align: top;\n",
       "    }\n",
       "\n",
       "    .dataframe thead th {\n",
       "        text-align: right;\n",
       "    }\n",
       "</style>\n",
       "<table border=\"1\" class=\"dataframe\">\n",
       "  <thead>\n",
       "    <tr style=\"text-align: right;\">\n",
       "      <th></th>\n",
       "      <th>author</th>\n",
       "    </tr>\n",
       "  </thead>\n",
       "  <tbody>\n",
       "    <tr>\n",
       "      <th>0</th>\n",
       "      <td>sreejith.ps</td>\n",
       "    </tr>\n",
       "    <tr>\n",
       "      <th>1</th>\n",
       "      <td>sreejith.ps</td>\n",
       "    </tr>\n",
       "  </tbody>\n",
       "</table>\n",
       "</div>"
      ],
      "text/plain": [
       "        author\n",
       "0  sreejith.ps\n",
       "1  sreejith.ps"
      ]
     },
     "execution_count": 8,
     "metadata": {},
     "output_type": "execute_result"
    }
   ],
   "source": [
    "df[['author']]   "
   ]
  },
  {
   "cell_type": "code",
   "execution_count": null,
   "metadata": {},
   "outputs": [],
   "source": []
  }
 ],
 "metadata": {
  "kernelspec": {
   "display_name": "Python 3",
   "language": "python",
   "name": "python3"
  },
  "language_info": {
   "codemirror_mode": {
    "name": "ipython",
    "version": 3
   },
   "file_extension": ".py",
   "mimetype": "text/x-python",
   "name": "python",
   "nbconvert_exporter": "python",
   "pygments_lexer": "ipython3",
   "version": "3.6.4"
  }
 },
 "nbformat": 4,
 "nbformat_minor": 2
}
