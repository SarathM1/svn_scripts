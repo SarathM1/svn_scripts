{
 "cells": [
  {
   "cell_type": "markdown",
   "metadata": {},
   "source": [
    "# SVN Dashboard\n",
    "## Instructions\n",
    "- Run each cell using _shift+Enter_ (runs current cell and selects below cell) or _ctrl+Enter_ (just run current)\n",
    "> Sarath M"
   ]
  },
  {
   "cell_type": "code",
   "execution_count": 1,
   "metadata": {},
   "outputs": [],
   "source": [
    "import pandas as pd"
   ]
  },
  {
   "cell_type": "markdown",
   "metadata": {},
   "source": [
    "## Reload"
   ]
  },
  {
   "cell_type": "code",
   "execution_count": 2,
   "metadata": {},
   "outputs": [
    {
     "name": "stdout",
     "output_type": "stream",
     "text": [
      "<class 'str'>\n",
      "0\n",
      "<class 'str'>\n",
      "24\n",
      "<class 'str'>\n",
      "0\n"
     ]
    }
   ],
   "source": [
    "%run proc.py"
   ]
  },
  {
   "cell_type": "code",
   "execution_count": 3,
   "metadata": {},
   "outputs": [],
   "source": [
    "df = pd.read_csv('repo_status.csv', index_col=0)"
   ]
  },
  {
   "cell_type": "markdown",
   "metadata": {},
   "source": [
    "## Overview\n",
    "- **path**: path to module\n",
    "- **owner**: module owner's name\n",
    "- **author**: Author of the last commit\n",
    "- **date**: Date of last commit\n",
    "- **repo_state**: *clean* means no uncommited changes, *dirty* otherwise\n",
    "- **revision_num**: Revision number of the working copy\n",
    "- **unversioned**: item is not under version control\n",
    "- **modified**: Number of _modified_ files that are not _commited_\n",
    "- **deleted_svn**: File's that are _deleted_ using _svn rm_ command; but the change has not been commited\n",
    "- **deleted_rm**: File's that are _deleted_ in other ways than _svn rm_ command; but the change has not been commited\n",
    "- **added**: Files added but not commited"
   ]
  },
  {
   "cell_type": "markdown",
   "metadata": {},
   "source": [
    "## Repo state"
   ]
  },
  {
   "cell_type": "code",
   "execution_count": 4,
   "metadata": {},
   "outputs": [
    {
     "data": {
      "text/html": [
       "<div>\n",
       "<style scoped>\n",
       "    .dataframe tbody tr th:only-of-type {\n",
       "        vertical-align: middle;\n",
       "    }\n",
       "\n",
       "    .dataframe tbody tr th {\n",
       "        vertical-align: top;\n",
       "    }\n",
       "\n",
       "    .dataframe thead th {\n",
       "        text-align: right;\n",
       "    }\n",
       "</style>\n",
       "<table border=\"1\" class=\"dataframe\">\n",
       "  <thead>\n",
       "    <tr style=\"text-align: right;\">\n",
       "      <th></th>\n",
       "      <th>path</th>\n",
       "      <th>owner</th>\n",
       "      <th>repo_state</th>\n",
       "    </tr>\n",
       "  </thead>\n",
       "  <tbody>\n",
       "    <tr>\n",
       "      <th>0</th>\n",
       "      <td>~/Parvathy_svn/ParvathyA_Sprint_6_001/Autonomo...</td>\n",
       "      <td>Parvathy A</td>\n",
       "      <td>clean</td>\n",
       "    </tr>\n",
       "    <tr>\n",
       "      <th>1</th>\n",
       "      <td>~/Parvathy_svn/ParvathyA_Sprint_4_001/Autonomo...</td>\n",
       "      <td>Parvathy</td>\n",
       "      <td>dirty</td>\n",
       "    </tr>\n",
       "    <tr>\n",
       "      <th>2</th>\n",
       "      <td>/home/teroot/Parvathy_svn/ParvathyA_001/Autono...</td>\n",
       "      <td>Parvathy A</td>\n",
       "      <td>dirty</td>\n",
       "    </tr>\n",
       "  </tbody>\n",
       "</table>\n",
       "</div>"
      ],
      "text/plain": [
       "                                                path       owner repo_state\n",
       "0  ~/Parvathy_svn/ParvathyA_Sprint_6_001/Autonomo...  Parvathy A      clean\n",
       "1  ~/Parvathy_svn/ParvathyA_Sprint_4_001/Autonomo...    Parvathy      dirty\n",
       "2  /home/teroot/Parvathy_svn/ParvathyA_001/Autono...  Parvathy A      dirty"
      ]
     },
     "execution_count": 4,
     "metadata": {},
     "output_type": "execute_result"
    }
   ],
   "source": [
    "df[['path', 'owner', 'repo_state']]"
   ]
  },
  {
   "cell_type": "markdown",
   "metadata": {},
   "source": [
    "## Detailed view"
   ]
  },
  {
   "cell_type": "code",
   "execution_count": 5,
   "metadata": {},
   "outputs": [
    {
     "data": {
      "text/html": [
       "<div>\n",
       "<style scoped>\n",
       "    .dataframe tbody tr th:only-of-type {\n",
       "        vertical-align: middle;\n",
       "    }\n",
       "\n",
       "    .dataframe tbody tr th {\n",
       "        vertical-align: top;\n",
       "    }\n",
       "\n",
       "    .dataframe thead th {\n",
       "        text-align: right;\n",
       "    }\n",
       "</style>\n",
       "<table border=\"1\" class=\"dataframe\">\n",
       "  <thead>\n",
       "    <tr style=\"text-align: right;\">\n",
       "      <th></th>\n",
       "      <th>name</th>\n",
       "      <th>owner</th>\n",
       "      <th>author</th>\n",
       "      <th>date_commit</th>\n",
       "      <th>time_commit</th>\n",
       "      <th>repo_state</th>\n",
       "      <th>revision_num</th>\n",
       "      <th>unversioned</th>\n",
       "      <th>modified</th>\n",
       "      <th>deleted_svn</th>\n",
       "      <th>deleted_rm</th>\n",
       "      <th>added</th>\n",
       "    </tr>\n",
       "  </thead>\n",
       "  <tbody>\n",
       "    <tr>\n",
       "      <th>0</th>\n",
       "      <td>obstacle_map</td>\n",
       "      <td>Parvathy A</td>\n",
       "      <td>sreejith.ps</td>\n",
       "      <td>Wed, 21 Mar 2018</td>\n",
       "      <td>14:13:35</td>\n",
       "      <td>clean</td>\n",
       "      <td>4369</td>\n",
       "      <td>0</td>\n",
       "      <td>0</td>\n",
       "      <td>0</td>\n",
       "      <td>0</td>\n",
       "      <td>0</td>\n",
       "    </tr>\n",
       "    <tr>\n",
       "      <th>1</th>\n",
       "      <td>AutonomousDriving_ws</td>\n",
       "      <td>Parvathy</td>\n",
       "      <td>sreejith.ps</td>\n",
       "      <td>Wed, 14 Mar 2018</td>\n",
       "      <td>11:47:15</td>\n",
       "      <td>dirty</td>\n",
       "      <td>4241</td>\n",
       "      <td>24</td>\n",
       "      <td>0</td>\n",
       "      <td>0</td>\n",
       "      <td>0</td>\n",
       "      <td>0</td>\n",
       "    </tr>\n",
       "    <tr>\n",
       "      <th>2</th>\n",
       "      <td>obstacle_map</td>\n",
       "      <td>Parvathy A</td>\n",
       "      <td>parvathy.a</td>\n",
       "      <td>Tue, 09 Jan 2018</td>\n",
       "      <td>16:40:02</td>\n",
       "      <td>dirty</td>\n",
       "      <td>3555</td>\n",
       "      <td>0</td>\n",
       "      <td>1</td>\n",
       "      <td>0</td>\n",
       "      <td>0</td>\n",
       "      <td>0</td>\n",
       "    </tr>\n",
       "  </tbody>\n",
       "</table>\n",
       "</div>"
      ],
      "text/plain": [
       "                   name       owner       author       date_commit  \\\n",
       "0          obstacle_map  Parvathy A  sreejith.ps  Wed, 21 Mar 2018   \n",
       "1  AutonomousDriving_ws    Parvathy  sreejith.ps  Wed, 14 Mar 2018   \n",
       "2          obstacle_map  Parvathy A   parvathy.a  Tue, 09 Jan 2018   \n",
       "\n",
       "  time_commit repo_state  revision_num  unversioned  modified  deleted_svn  \\\n",
       "0    14:13:35      clean          4369            0         0            0   \n",
       "1    11:47:15      dirty          4241           24         0            0   \n",
       "2    16:40:02      dirty          3555            0         1            0   \n",
       "\n",
       "   deleted_rm  added  \n",
       "0           0      0  \n",
       "1           0      0  \n",
       "2           0      0  "
      ]
     },
     "execution_count": 5,
     "metadata": {},
     "output_type": "execute_result"
    }
   ],
   "source": [
    "df[['name', 'owner', 'author', 'date_commit', 'time_commit', 'repo_state', 'revision_num', 'unversioned', 'modified', 'deleted_svn', 'deleted_rm', 'added']]   "
   ]
  },
  {
   "cell_type": "markdown",
   "metadata": {},
   "source": [
    "# Directories\n",
    "- Paths to directories that are dirty"
   ]
  },
  {
   "cell_type": "code",
   "execution_count": 18,
   "metadata": {},
   "outputs": [
    {
     "name": "stdout",
     "output_type": "stream",
     "text": [
      "0 \t ~/Parvathy_svn/ParvathyA_Sprint_4_001/AutonomousDriving_ws/\n",
      "1 \t /home/teroot/Parvathy_svn/ParvathyA_001/AutonomousDriving_ws/src/Enviroment_Perception/obstacle_map\n"
     ]
    }
   ],
   "source": [
    "df_dirty = df.loc[df['repo_state']=='dirty']\n",
    "pths = df_dirty['path'].tolist()\n",
    "for i, each_path in enumerate(pths):\n",
    "    print (i,'\\t',each_path)"
   ]
  },
  {
   "cell_type": "code",
   "execution_count": null,
   "metadata": {},
   "outputs": [],
   "source": []
  }
 ],
 "metadata": {
  "kernelspec": {
   "display_name": "Python 3",
   "language": "python",
   "name": "python3"
  },
  "language_info": {
   "codemirror_mode": {
    "name": "ipython",
    "version": 3
   },
   "file_extension": ".py",
   "mimetype": "text/x-python",
   "name": "python",
   "nbconvert_exporter": "python",
   "pygments_lexer": "ipython3",
   "version": "3.6.4"
  }
 },
 "nbformat": 4,
 "nbformat_minor": 2
}
