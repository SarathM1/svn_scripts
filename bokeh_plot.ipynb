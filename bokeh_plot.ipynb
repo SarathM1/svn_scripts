{
 "cells": [
  {
   "cell_type": "code",
   "execution_count": 1,
   "metadata": {},
   "outputs": [],
   "source": [
    "import pandas as pd\n",
    "import numpy as np"
   ]
  },
  {
   "cell_type": "code",
   "execution_count": 2,
   "metadata": {},
   "outputs": [
    {
     "data": {
      "text/html": [
       "\n",
       "    <div class=\"bk-root\">\n",
       "        <a href=\"https://bokeh.pydata.org\" target=\"_blank\" class=\"bk-logo bk-logo-small bk-logo-notebook\"></a>\n",
       "        <span id=\"edb69ef2-c394-4015-b4e9-653c6e0412c5\">Loading BokehJS ...</span>\n",
       "    </div>"
      ]
     },
     "metadata": {},
     "output_type": "display_data"
    },
    {
     "data": {
      "application/javascript": [
       "\n",
       "(function(root) {\n",
       "  function now() {\n",
       "    return new Date();\n",
       "  }\n",
       "\n",
       "  var force = true;\n",
       "\n",
       "  if (typeof (root._bokeh_onload_callbacks) === \"undefined\" || force === true) {\n",
       "    root._bokeh_onload_callbacks = [];\n",
       "    root._bokeh_is_loading = undefined;\n",
       "  }\n",
       "\n",
       "  var JS_MIME_TYPE = 'application/javascript';\n",
       "  var HTML_MIME_TYPE = 'text/html';\n",
       "  var EXEC_MIME_TYPE = 'application/vnd.bokehjs_exec.v0+json';\n",
       "  var CLASS_NAME = 'output_bokeh rendered_html';\n",
       "\n",
       "  /**\n",
       "   * Render data to the DOM node\n",
       "   */\n",
       "  function render(props, node) {\n",
       "    var script = document.createElement(\"script\");\n",
       "    node.appendChild(script);\n",
       "  }\n",
       "\n",
       "  /**\n",
       "   * Handle when an output is cleared or removed\n",
       "   */\n",
       "  function handleClearOutput(event, handle) {\n",
       "    var cell = handle.cell;\n",
       "\n",
       "    var id = cell.output_area._bokeh_element_id;\n",
       "    var server_id = cell.output_area._bokeh_server_id;\n",
       "    // Clean up Bokeh references\n",
       "    if (id !== undefined) {\n",
       "      Bokeh.index[id].model.document.clear();\n",
       "      delete Bokeh.index[id];\n",
       "    }\n",
       "\n",
       "    if (server_id !== undefined) {\n",
       "      // Clean up Bokeh references\n",
       "      var cmd = \"from bokeh.io.state import curstate; print(curstate().uuid_to_server['\" + server_id + \"'].get_sessions()[0].document.roots[0]._id)\";\n",
       "      cell.notebook.kernel.execute(cmd, {\n",
       "        iopub: {\n",
       "          output: function(msg) {\n",
       "            var element_id = msg.content.text.trim();\n",
       "            Bokeh.index[element_id].model.document.clear();\n",
       "            delete Bokeh.index[element_id];\n",
       "          }\n",
       "        }\n",
       "      });\n",
       "      // Destroy server and session\n",
       "      var cmd = \"import bokeh.io.notebook as ion; ion.destroy_server('\" + server_id + \"')\";\n",
       "      cell.notebook.kernel.execute(cmd);\n",
       "    }\n",
       "  }\n",
       "\n",
       "  /**\n",
       "   * Handle when a new output is added\n",
       "   */\n",
       "  function handleAddOutput(event, handle) {\n",
       "    var output_area = handle.output_area;\n",
       "    var output = handle.output;\n",
       "\n",
       "    // limit handleAddOutput to display_data with EXEC_MIME_TYPE content only\n",
       "    if ((output.output_type != \"display_data\") || (!output.data.hasOwnProperty(EXEC_MIME_TYPE))) {\n",
       "      return\n",
       "    }\n",
       "\n",
       "    var toinsert = output_area.element.find(\".\" + CLASS_NAME.split(' ')[0]);\n",
       "\n",
       "    if (output.metadata[EXEC_MIME_TYPE][\"id\"] !== undefined) {\n",
       "      toinsert[toinsert.length - 1].firstChild.textContent = output.data[JS_MIME_TYPE];\n",
       "      // store reference to embed id on output_area\n",
       "      output_area._bokeh_element_id = output.metadata[EXEC_MIME_TYPE][\"id\"];\n",
       "    }\n",
       "    if (output.metadata[EXEC_MIME_TYPE][\"server_id\"] !== undefined) {\n",
       "      var bk_div = document.createElement(\"div\");\n",
       "      bk_div.innerHTML = output.data[HTML_MIME_TYPE];\n",
       "      var script_attrs = bk_div.children[0].attributes;\n",
       "      for (var i = 0; i < script_attrs.length; i++) {\n",
       "        toinsert[toinsert.length - 1].firstChild.setAttribute(script_attrs[i].name, script_attrs[i].value);\n",
       "      }\n",
       "      // store reference to server id on output_area\n",
       "      output_area._bokeh_server_id = output.metadata[EXEC_MIME_TYPE][\"server_id\"];\n",
       "    }\n",
       "  }\n",
       "\n",
       "  function register_renderer(events, OutputArea) {\n",
       "\n",
       "    function append_mime(data, metadata, element) {\n",
       "      // create a DOM node to render to\n",
       "      var toinsert = this.create_output_subarea(\n",
       "        metadata,\n",
       "        CLASS_NAME,\n",
       "        EXEC_MIME_TYPE\n",
       "      );\n",
       "      this.keyboard_manager.register_events(toinsert);\n",
       "      // Render to node\n",
       "      var props = {data: data, metadata: metadata[EXEC_MIME_TYPE]};\n",
       "      render(props, toinsert[toinsert.length - 1]);\n",
       "      element.append(toinsert);\n",
       "      return toinsert\n",
       "    }\n",
       "\n",
       "    /* Handle when an output is cleared or removed */\n",
       "    events.on('clear_output.CodeCell', handleClearOutput);\n",
       "    events.on('delete.Cell', handleClearOutput);\n",
       "\n",
       "    /* Handle when a new output is added */\n",
       "    events.on('output_added.OutputArea', handleAddOutput);\n",
       "\n",
       "    /**\n",
       "     * Register the mime type and append_mime function with output_area\n",
       "     */\n",
       "    OutputArea.prototype.register_mime_type(EXEC_MIME_TYPE, append_mime, {\n",
       "      /* Is output safe? */\n",
       "      safe: true,\n",
       "      /* Index of renderer in `output_area.display_order` */\n",
       "      index: 0\n",
       "    });\n",
       "  }\n",
       "\n",
       "  // register the mime type if in Jupyter Notebook environment and previously unregistered\n",
       "  if (root.Jupyter !== undefined) {\n",
       "    var events = require('base/js/events');\n",
       "    var OutputArea = require('notebook/js/outputarea').OutputArea;\n",
       "\n",
       "    if (OutputArea.prototype.mime_types().indexOf(EXEC_MIME_TYPE) == -1) {\n",
       "      register_renderer(events, OutputArea);\n",
       "    }\n",
       "  }\n",
       "\n",
       "  \n",
       "  if (typeof (root._bokeh_timeout) === \"undefined\" || force === true) {\n",
       "    root._bokeh_timeout = Date.now() + 5000;\n",
       "    root._bokeh_failed_load = false;\n",
       "  }\n",
       "\n",
       "  var NB_LOAD_WARNING = {'data': {'text/html':\n",
       "     \"<div style='background-color: #fdd'>\\n\"+\n",
       "     \"<p>\\n\"+\n",
       "     \"BokehJS does not appear to have successfully loaded. If loading BokehJS from CDN, this \\n\"+\n",
       "     \"may be due to a slow or bad network connection. Possible fixes:\\n\"+\n",
       "     \"</p>\\n\"+\n",
       "     \"<ul>\\n\"+\n",
       "     \"<li>re-rerun `output_notebook()` to attempt to load from CDN again, or</li>\\n\"+\n",
       "     \"<li>use INLINE resources instead, as so:</li>\\n\"+\n",
       "     \"</ul>\\n\"+\n",
       "     \"<code>\\n\"+\n",
       "     \"from bokeh.resources import INLINE\\n\"+\n",
       "     \"output_notebook(resources=INLINE)\\n\"+\n",
       "     \"</code>\\n\"+\n",
       "     \"</div>\"}};\n",
       "\n",
       "  function display_loaded() {\n",
       "    var el = document.getElementById(\"edb69ef2-c394-4015-b4e9-653c6e0412c5\");\n",
       "    if (el != null) {\n",
       "      el.textContent = \"BokehJS is loading...\";\n",
       "    }\n",
       "    if (root.Bokeh !== undefined) {\n",
       "      if (el != null) {\n",
       "        el.textContent = \"BokehJS \" + root.Bokeh.version + \" successfully loaded.\";\n",
       "      }\n",
       "    } else if (Date.now() < root._bokeh_timeout) {\n",
       "      setTimeout(display_loaded, 100)\n",
       "    }\n",
       "  }\n",
       "\n",
       "\n",
       "  function run_callbacks() {\n",
       "    try {\n",
       "      root._bokeh_onload_callbacks.forEach(function(callback) { callback() });\n",
       "    }\n",
       "    finally {\n",
       "      delete root._bokeh_onload_callbacks\n",
       "    }\n",
       "    console.info(\"Bokeh: all callbacks have finished\");\n",
       "  }\n",
       "\n",
       "  function load_libs(js_urls, callback) {\n",
       "    root._bokeh_onload_callbacks.push(callback);\n",
       "    if (root._bokeh_is_loading > 0) {\n",
       "      console.log(\"Bokeh: BokehJS is being loaded, scheduling callback at\", now());\n",
       "      return null;\n",
       "    }\n",
       "    if (js_urls == null || js_urls.length === 0) {\n",
       "      run_callbacks();\n",
       "      return null;\n",
       "    }\n",
       "    console.log(\"Bokeh: BokehJS not loaded, scheduling load and callback at\", now());\n",
       "    root._bokeh_is_loading = js_urls.length;\n",
       "    for (var i = 0; i < js_urls.length; i++) {\n",
       "      var url = js_urls[i];\n",
       "      var s = document.createElement('script');\n",
       "      s.src = url;\n",
       "      s.async = false;\n",
       "      s.onreadystatechange = s.onload = function() {\n",
       "        root._bokeh_is_loading--;\n",
       "        if (root._bokeh_is_loading === 0) {\n",
       "          console.log(\"Bokeh: all BokehJS libraries loaded\");\n",
       "          run_callbacks()\n",
       "        }\n",
       "      };\n",
       "      s.onerror = function() {\n",
       "        console.warn(\"failed to load library \" + url);\n",
       "      };\n",
       "      console.log(\"Bokeh: injecting script tag for BokehJS library: \", url);\n",
       "      document.getElementsByTagName(\"head\")[0].appendChild(s);\n",
       "    }\n",
       "  };var element = document.getElementById(\"edb69ef2-c394-4015-b4e9-653c6e0412c5\");\n",
       "  if (element == null) {\n",
       "    console.log(\"Bokeh: ERROR: autoload.js configured with elementid 'edb69ef2-c394-4015-b4e9-653c6e0412c5' but no matching script tag was found. \")\n",
       "    return false;\n",
       "  }\n",
       "\n",
       "  var js_urls = [\"https://cdn.pydata.org/bokeh/release/bokeh-0.12.15.min.js\", \"https://cdn.pydata.org/bokeh/release/bokeh-widgets-0.12.15.min.js\", \"https://cdn.pydata.org/bokeh/release/bokeh-tables-0.12.15.min.js\", \"https://cdn.pydata.org/bokeh/release/bokeh-gl-0.12.15.min.js\"];\n",
       "\n",
       "  var inline_js = [\n",
       "    function(Bokeh) {\n",
       "      Bokeh.set_log_level(\"info\");\n",
       "    },\n",
       "    \n",
       "    function(Bokeh) {\n",
       "      \n",
       "    },\n",
       "    function(Bokeh) {\n",
       "      console.log(\"Bokeh: injecting CSS: https://cdn.pydata.org/bokeh/release/bokeh-0.12.15.min.css\");\n",
       "      Bokeh.embed.inject_css(\"https://cdn.pydata.org/bokeh/release/bokeh-0.12.15.min.css\");\n",
       "      console.log(\"Bokeh: injecting CSS: https://cdn.pydata.org/bokeh/release/bokeh-widgets-0.12.15.min.css\");\n",
       "      Bokeh.embed.inject_css(\"https://cdn.pydata.org/bokeh/release/bokeh-widgets-0.12.15.min.css\");\n",
       "      console.log(\"Bokeh: injecting CSS: https://cdn.pydata.org/bokeh/release/bokeh-tables-0.12.15.min.css\");\n",
       "      Bokeh.embed.inject_css(\"https://cdn.pydata.org/bokeh/release/bokeh-tables-0.12.15.min.css\");\n",
       "    }\n",
       "  ];\n",
       "\n",
       "  function run_inline_js() {\n",
       "    \n",
       "    if ((root.Bokeh !== undefined) || (force === true)) {\n",
       "      for (var i = 0; i < inline_js.length; i++) {\n",
       "        inline_js[i].call(root, root.Bokeh);\n",
       "      }if (force === true) {\n",
       "        display_loaded();\n",
       "      }} else if (Date.now() < root._bokeh_timeout) {\n",
       "      setTimeout(run_inline_js, 100);\n",
       "    } else if (!root._bokeh_failed_load) {\n",
       "      console.log(\"Bokeh: BokehJS failed to load within specified timeout.\");\n",
       "      root._bokeh_failed_load = true;\n",
       "    } else if (force !== true) {\n",
       "      var cell = $(document.getElementById(\"edb69ef2-c394-4015-b4e9-653c6e0412c5\")).parents('.cell').data().cell;\n",
       "      cell.output_area.append_execute_result(NB_LOAD_WARNING)\n",
       "    }\n",
       "\n",
       "  }\n",
       "\n",
       "  if (root._bokeh_is_loading === 0) {\n",
       "    console.log(\"Bokeh: BokehJS loaded, going straight to plotting\");\n",
       "    run_inline_js();\n",
       "  } else {\n",
       "    load_libs(js_urls, function() {\n",
       "      console.log(\"Bokeh: BokehJS plotting callback run at\", now());\n",
       "      run_inline_js();\n",
       "    });\n",
       "  }\n",
       "}(window));"
      ],
      "application/vnd.bokehjs_load.v0+json": "\n(function(root) {\n  function now() {\n    return new Date();\n  }\n\n  var force = true;\n\n  if (typeof (root._bokeh_onload_callbacks) === \"undefined\" || force === true) {\n    root._bokeh_onload_callbacks = [];\n    root._bokeh_is_loading = undefined;\n  }\n\n  \n\n  \n  if (typeof (root._bokeh_timeout) === \"undefined\" || force === true) {\n    root._bokeh_timeout = Date.now() + 5000;\n    root._bokeh_failed_load = false;\n  }\n\n  var NB_LOAD_WARNING = {'data': {'text/html':\n     \"<div style='background-color: #fdd'>\\n\"+\n     \"<p>\\n\"+\n     \"BokehJS does not appear to have successfully loaded. If loading BokehJS from CDN, this \\n\"+\n     \"may be due to a slow or bad network connection. Possible fixes:\\n\"+\n     \"</p>\\n\"+\n     \"<ul>\\n\"+\n     \"<li>re-rerun `output_notebook()` to attempt to load from CDN again, or</li>\\n\"+\n     \"<li>use INLINE resources instead, as so:</li>\\n\"+\n     \"</ul>\\n\"+\n     \"<code>\\n\"+\n     \"from bokeh.resources import INLINE\\n\"+\n     \"output_notebook(resources=INLINE)\\n\"+\n     \"</code>\\n\"+\n     \"</div>\"}};\n\n  function display_loaded() {\n    var el = document.getElementById(\"edb69ef2-c394-4015-b4e9-653c6e0412c5\");\n    if (el != null) {\n      el.textContent = \"BokehJS is loading...\";\n    }\n    if (root.Bokeh !== undefined) {\n      if (el != null) {\n        el.textContent = \"BokehJS \" + root.Bokeh.version + \" successfully loaded.\";\n      }\n    } else if (Date.now() < root._bokeh_timeout) {\n      setTimeout(display_loaded, 100)\n    }\n  }\n\n\n  function run_callbacks() {\n    try {\n      root._bokeh_onload_callbacks.forEach(function(callback) { callback() });\n    }\n    finally {\n      delete root._bokeh_onload_callbacks\n    }\n    console.info(\"Bokeh: all callbacks have finished\");\n  }\n\n  function load_libs(js_urls, callback) {\n    root._bokeh_onload_callbacks.push(callback);\n    if (root._bokeh_is_loading > 0) {\n      console.log(\"Bokeh: BokehJS is being loaded, scheduling callback at\", now());\n      return null;\n    }\n    if (js_urls == null || js_urls.length === 0) {\n      run_callbacks();\n      return null;\n    }\n    console.log(\"Bokeh: BokehJS not loaded, scheduling load and callback at\", now());\n    root._bokeh_is_loading = js_urls.length;\n    for (var i = 0; i < js_urls.length; i++) {\n      var url = js_urls[i];\n      var s = document.createElement('script');\n      s.src = url;\n      s.async = false;\n      s.onreadystatechange = s.onload = function() {\n        root._bokeh_is_loading--;\n        if (root._bokeh_is_loading === 0) {\n          console.log(\"Bokeh: all BokehJS libraries loaded\");\n          run_callbacks()\n        }\n      };\n      s.onerror = function() {\n        console.warn(\"failed to load library \" + url);\n      };\n      console.log(\"Bokeh: injecting script tag for BokehJS library: \", url);\n      document.getElementsByTagName(\"head\")[0].appendChild(s);\n    }\n  };var element = document.getElementById(\"edb69ef2-c394-4015-b4e9-653c6e0412c5\");\n  if (element == null) {\n    console.log(\"Bokeh: ERROR: autoload.js configured with elementid 'edb69ef2-c394-4015-b4e9-653c6e0412c5' but no matching script tag was found. \")\n    return false;\n  }\n\n  var js_urls = [\"https://cdn.pydata.org/bokeh/release/bokeh-0.12.15.min.js\", \"https://cdn.pydata.org/bokeh/release/bokeh-widgets-0.12.15.min.js\", \"https://cdn.pydata.org/bokeh/release/bokeh-tables-0.12.15.min.js\", \"https://cdn.pydata.org/bokeh/release/bokeh-gl-0.12.15.min.js\"];\n\n  var inline_js = [\n    function(Bokeh) {\n      Bokeh.set_log_level(\"info\");\n    },\n    \n    function(Bokeh) {\n      \n    },\n    function(Bokeh) {\n      console.log(\"Bokeh: injecting CSS: https://cdn.pydata.org/bokeh/release/bokeh-0.12.15.min.css\");\n      Bokeh.embed.inject_css(\"https://cdn.pydata.org/bokeh/release/bokeh-0.12.15.min.css\");\n      console.log(\"Bokeh: injecting CSS: https://cdn.pydata.org/bokeh/release/bokeh-widgets-0.12.15.min.css\");\n      Bokeh.embed.inject_css(\"https://cdn.pydata.org/bokeh/release/bokeh-widgets-0.12.15.min.css\");\n      console.log(\"Bokeh: injecting CSS: https://cdn.pydata.org/bokeh/release/bokeh-tables-0.12.15.min.css\");\n      Bokeh.embed.inject_css(\"https://cdn.pydata.org/bokeh/release/bokeh-tables-0.12.15.min.css\");\n    }\n  ];\n\n  function run_inline_js() {\n    \n    if ((root.Bokeh !== undefined) || (force === true)) {\n      for (var i = 0; i < inline_js.length; i++) {\n        inline_js[i].call(root, root.Bokeh);\n      }if (force === true) {\n        display_loaded();\n      }} else if (Date.now() < root._bokeh_timeout) {\n      setTimeout(run_inline_js, 100);\n    } else if (!root._bokeh_failed_load) {\n      console.log(\"Bokeh: BokehJS failed to load within specified timeout.\");\n      root._bokeh_failed_load = true;\n    } else if (force !== true) {\n      var cell = $(document.getElementById(\"edb69ef2-c394-4015-b4e9-653c6e0412c5\")).parents('.cell').data().cell;\n      cell.output_area.append_execute_result(NB_LOAD_WARNING)\n    }\n\n  }\n\n  if (root._bokeh_is_loading === 0) {\n    console.log(\"Bokeh: BokehJS loaded, going straight to plotting\");\n    run_inline_js();\n  } else {\n    load_libs(js_urls, function() {\n      console.log(\"Bokeh: BokehJS plotting callback run at\", now());\n      run_inline_js();\n    });\n  }\n}(window));"
     },
     "metadata": {},
     "output_type": "display_data"
    }
   ],
   "source": [
    "from bokeh.plotting import figure\n",
    "\n",
    "from bokeh.io import show, output_notebook, output_file\n",
    "from bokeh.models import ColumnDataSource, HoverTool, CategoricalColorMapper\n",
    "from bokeh.palettes import Category10_5, Category20_16\n",
    "output_notebook()\n",
    "# output_file('plot.html')"
   ]
  },
  {
   "cell_type": "markdown",
   "metadata": {},
   "source": [
    "# Data Inspection"
   ]
  },
  {
   "cell_type": "code",
   "execution_count": 3,
   "metadata": {},
   "outputs": [],
   "source": [
    "df_overview = pd.read_csv('./repo_status.csv', index_col=0)"
   ]
  },
  {
   "cell_type": "code",
   "execution_count": 4,
   "metadata": {},
   "outputs": [],
   "source": [
    "# df_overview['state_val'] = df_overview['modified'] + df_overview['unversioned'] + df_overview['deleted_rm'] + df_overview['deleted_svn'] \n",
    "df_overview['state_val'] = df_overview['revision_num']"
   ]
  },
  {
   "cell_type": "code",
   "execution_count": 5,
   "metadata": {},
   "outputs": [
    {
     "data": {
      "text/html": [
       "<div>\n",
       "<style scoped>\n",
       "    .dataframe tbody tr th:only-of-type {\n",
       "        vertical-align: middle;\n",
       "    }\n",
       "\n",
       "    .dataframe tbody tr th {\n",
       "        vertical-align: top;\n",
       "    }\n",
       "\n",
       "    .dataframe thead th {\n",
       "        text-align: right;\n",
       "    }\n",
       "</style>\n",
       "<table border=\"1\" class=\"dataframe\">\n",
       "  <thead>\n",
       "    <tr style=\"text-align: right;\">\n",
       "      <th></th>\n",
       "      <th>path</th>\n",
       "      <th>owner</th>\n",
       "      <th>author</th>\n",
       "      <th>date_commit</th>\n",
       "      <th>repo_state</th>\n",
       "      <th>state_val</th>\n",
       "      <th>modified</th>\n",
       "      <th>unversioned</th>\n",
       "      <th>deleted_rm</th>\n",
       "      <th>deleted_svn</th>\n",
       "    </tr>\n",
       "  </thead>\n",
       "  <tbody>\n",
       "    <tr>\n",
       "      <th>0</th>\n",
       "      <td>~/project1_work</td>\n",
       "      <td>Sarath M</td>\n",
       "      <td>sm</td>\n",
       "      <td>Sat, 24 Mar 2018</td>\n",
       "      <td>clean</td>\n",
       "      <td>0</td>\n",
       "      <td>0</td>\n",
       "      <td>1</td>\n",
       "      <td>0</td>\n",
       "      <td>1</td>\n",
       "    </tr>\n",
       "    <tr>\n",
       "      <th>1</th>\n",
       "      <td>~/project1_work1</td>\n",
       "      <td>Sarath M</td>\n",
       "      <td>sm</td>\n",
       "      <td>Sat, 24 Mar 2018</td>\n",
       "      <td>dirty</td>\n",
       "      <td>1</td>\n",
       "      <td>0</td>\n",
       "      <td>1</td>\n",
       "      <td>0</td>\n",
       "      <td>1</td>\n",
       "    </tr>\n",
       "    <tr>\n",
       "      <th>2</th>\n",
       "      <td>~/project1_work2</td>\n",
       "      <td>Sarath M</td>\n",
       "      <td>sm</td>\n",
       "      <td>Sat, 24 Mar 2018</td>\n",
       "      <td>dirty</td>\n",
       "      <td>2</td>\n",
       "      <td>0</td>\n",
       "      <td>1</td>\n",
       "      <td>0</td>\n",
       "      <td>1</td>\n",
       "    </tr>\n",
       "    <tr>\n",
       "      <th>3</th>\n",
       "      <td>~/project1_work3</td>\n",
       "      <td>Sarath M</td>\n",
       "      <td>sm</td>\n",
       "      <td>Sat, 24 Mar 2018</td>\n",
       "      <td>clean</td>\n",
       "      <td>3</td>\n",
       "      <td>0</td>\n",
       "      <td>1</td>\n",
       "      <td>0</td>\n",
       "      <td>1</td>\n",
       "    </tr>\n",
       "    <tr>\n",
       "      <th>4</th>\n",
       "      <td>~/project1_work4</td>\n",
       "      <td>Sarath M</td>\n",
       "      <td>sm</td>\n",
       "      <td>Sat, 24 Mar 2018</td>\n",
       "      <td>dirty</td>\n",
       "      <td>4</td>\n",
       "      <td>0</td>\n",
       "      <td>1</td>\n",
       "      <td>0</td>\n",
       "      <td>1</td>\n",
       "    </tr>\n",
       "    <tr>\n",
       "      <th>5</th>\n",
       "      <td>~/project1_work5</td>\n",
       "      <td>Sarath M</td>\n",
       "      <td>sm</td>\n",
       "      <td>Sat, 24 Mar 2018</td>\n",
       "      <td>clean</td>\n",
       "      <td>5</td>\n",
       "      <td>0</td>\n",
       "      <td>1</td>\n",
       "      <td>0</td>\n",
       "      <td>1</td>\n",
       "    </tr>\n",
       "    <tr>\n",
       "      <th>0</th>\n",
       "      <td>~/project1_work6</td>\n",
       "      <td>Sarath M</td>\n",
       "      <td>sm</td>\n",
       "      <td>Sat, 24 Mar 2018</td>\n",
       "      <td>clean</td>\n",
       "      <td>0</td>\n",
       "      <td>0</td>\n",
       "      <td>1</td>\n",
       "      <td>0</td>\n",
       "      <td>1</td>\n",
       "    </tr>\n",
       "    <tr>\n",
       "      <th>1</th>\n",
       "      <td>~/project1_work7</td>\n",
       "      <td>Sarath M</td>\n",
       "      <td>sm</td>\n",
       "      <td>Sat, 24 Mar 2018</td>\n",
       "      <td>dirty</td>\n",
       "      <td>1</td>\n",
       "      <td>0</td>\n",
       "      <td>1</td>\n",
       "      <td>0</td>\n",
       "      <td>1</td>\n",
       "    </tr>\n",
       "    <tr>\n",
       "      <th>2</th>\n",
       "      <td>~/project1_work8</td>\n",
       "      <td>Sarath M</td>\n",
       "      <td>sm</td>\n",
       "      <td>Sat, 24 Mar 2018</td>\n",
       "      <td>dirty</td>\n",
       "      <td>2</td>\n",
       "      <td>0</td>\n",
       "      <td>1</td>\n",
       "      <td>0</td>\n",
       "      <td>1</td>\n",
       "    </tr>\n",
       "    <tr>\n",
       "      <th>3</th>\n",
       "      <td>~/project1_work9</td>\n",
       "      <td>Sarath M</td>\n",
       "      <td>sm</td>\n",
       "      <td>Sat, 24 Mar 2018</td>\n",
       "      <td>clean</td>\n",
       "      <td>3</td>\n",
       "      <td>0</td>\n",
       "      <td>1</td>\n",
       "      <td>0</td>\n",
       "      <td>1</td>\n",
       "    </tr>\n",
       "    <tr>\n",
       "      <th>4</th>\n",
       "      <td>~/project1_work10</td>\n",
       "      <td>Sarath M</td>\n",
       "      <td>sm</td>\n",
       "      <td>Sat, 24 Mar 2018</td>\n",
       "      <td>dirty</td>\n",
       "      <td>4</td>\n",
       "      <td>0</td>\n",
       "      <td>1</td>\n",
       "      <td>0</td>\n",
       "      <td>1</td>\n",
       "    </tr>\n",
       "    <tr>\n",
       "      <th>5</th>\n",
       "      <td>~/project1_work11</td>\n",
       "      <td>Sarath M</td>\n",
       "      <td>sm</td>\n",
       "      <td>Sat, 24 Mar 2018</td>\n",
       "      <td>clean</td>\n",
       "      <td>5</td>\n",
       "      <td>0</td>\n",
       "      <td>1</td>\n",
       "      <td>0</td>\n",
       "      <td>1</td>\n",
       "    </tr>\n",
       "  </tbody>\n",
       "</table>\n",
       "</div>"
      ],
      "text/plain": [
       "                path     owner author       date_commit repo_state  state_val  \\\n",
       "0    ~/project1_work  Sarath M     sm  Sat, 24 Mar 2018      clean          0   \n",
       "1   ~/project1_work1  Sarath M     sm  Sat, 24 Mar 2018      dirty          1   \n",
       "2   ~/project1_work2  Sarath M     sm  Sat, 24 Mar 2018      dirty          2   \n",
       "3   ~/project1_work3  Sarath M     sm  Sat, 24 Mar 2018      clean          3   \n",
       "4   ~/project1_work4  Sarath M     sm  Sat, 24 Mar 2018      dirty          4   \n",
       "5   ~/project1_work5  Sarath M     sm  Sat, 24 Mar 2018      clean          5   \n",
       "0   ~/project1_work6  Sarath M     sm  Sat, 24 Mar 2018      clean          0   \n",
       "1   ~/project1_work7  Sarath M     sm  Sat, 24 Mar 2018      dirty          1   \n",
       "2   ~/project1_work8  Sarath M     sm  Sat, 24 Mar 2018      dirty          2   \n",
       "3   ~/project1_work9  Sarath M     sm  Sat, 24 Mar 2018      clean          3   \n",
       "4  ~/project1_work10  Sarath M     sm  Sat, 24 Mar 2018      dirty          4   \n",
       "5  ~/project1_work11  Sarath M     sm  Sat, 24 Mar 2018      clean          5   \n",
       "\n",
       "   modified  unversioned  deleted_rm  deleted_svn  \n",
       "0         0            1           0            1  \n",
       "1         0            1           0            1  \n",
       "2         0            1           0            1  \n",
       "3         0            1           0            1  \n",
       "4         0            1           0            1  \n",
       "5         0            1           0            1  \n",
       "0         0            1           0            1  \n",
       "1         0            1           0            1  \n",
       "2         0            1           0            1  \n",
       "3         0            1           0            1  \n",
       "4         0            1           0            1  \n",
       "5         0            1           0            1  "
      ]
     },
     "execution_count": 5,
     "metadata": {},
     "output_type": "execute_result"
    }
   ],
   "source": [
    "df_main = df_overview[['path', 'owner', 'author', 'date_commit', 'repo_state', 'state_val','modified', 'unversioned', 'deleted_rm', 'deleted_svn']]\n",
    "df_main\n",
    "#df_overview.head()"
   ]
  },
  {
   "cell_type": "markdown",
   "metadata": {},
   "source": [
    "## Data for plotting"
   ]
  },
  {
   "cell_type": "code",
   "execution_count": 6,
   "metadata": {},
   "outputs": [
    {
     "data": {
      "text/html": [
       "\n",
       "<div class=\"bk-root\">\n",
       "    <div class=\"bk-plotdiv\" id=\"576aa00b-1841-4372-ad70-f322f365beef\"></div>\n",
       "</div>"
      ]
     },
     "metadata": {},
     "output_type": "display_data"
    },
    {
     "data": {
      "application/javascript": [
       "(function(root) {\n",
       "  function embed_document(root) {\n",
       "    \n",
       "  var docs_json = {\"e11778f5-7ed6-431e-ad35-0404a5c00557\":{\"roots\":{\"references\":[{\"attributes\":{\"formatter\":{\"id\":\"8b1fec19-0404-46f3-a2ec-c2da2e7a840f\",\"type\":\"CategoricalTickFormatter\"},\"plot\":{\"id\":\"f3ffebfa-886d-4948-a2d1-c858ade4a227\",\"subtype\":\"Figure\",\"type\":\"Plot\"},\"ticker\":{\"id\":\"6ec6ed22-4dcc-4e10-b0b8-9d8448f460a5\",\"type\":\"CategoricalTicker\"}},\"id\":\"9a25e957-2d0c-4f99-abe3-3b46855417b5\",\"type\":\"CategoricalAxis\"},{\"attributes\":{},\"id\":\"8b1fec19-0404-46f3-a2ec-c2da2e7a840f\",\"type\":\"CategoricalTickFormatter\"},{\"attributes\":{},\"id\":\"653939e5-f4ec-4453-ba07-fe682a232494\",\"type\":\"CategoricalScale\"},{\"attributes\":{\"callback\":null},\"id\":\"089dfcb5-26b5-4558-98b4-fa34e0168e57\",\"type\":\"DataRange1d\"},{\"attributes\":{},\"id\":\"c2b96985-b056-4bf7-b4ff-913ad694ed15\",\"type\":\"LinearScale\"},{\"attributes\":{\"formatter\":{\"id\":\"abf04de2-559e-4f3d-b61f-03294dd703a0\",\"type\":\"BasicTickFormatter\"},\"plot\":{\"id\":\"f3ffebfa-886d-4948-a2d1-c858ade4a227\",\"subtype\":\"Figure\",\"type\":\"Plot\"},\"ticker\":{\"id\":\"f1b74acf-7873-4f0c-b204-0188aa390a1b\",\"type\":\"BasicTicker\"}},\"id\":\"298cb422-dece-48bd-be6c-e92838cb985f\",\"type\":\"LinearAxis\"},{\"attributes\":{\"source\":{\"id\":\"b5b1480a-bb64-41f5-8882-5d8c28cc1d66\",\"type\":\"ColumnDataSource\"}},\"id\":\"5c713bfa-51bd-4563-9acc-f4d5537500b4\",\"type\":\"CDSView\"},{\"attributes\":{},\"id\":\"6ec6ed22-4dcc-4e10-b0b8-9d8448f460a5\",\"type\":\"CategoricalTicker\"},{\"attributes\":{\"plot\":{\"id\":\"f3ffebfa-886d-4948-a2d1-c858ade4a227\",\"subtype\":\"Figure\",\"type\":\"Plot\"},\"ticker\":{\"id\":\"6ec6ed22-4dcc-4e10-b0b8-9d8448f460a5\",\"type\":\"CategoricalTicker\"}},\"id\":\"884d1897-1b8a-43f1-a461-7a88baf1c84b\",\"type\":\"Grid\"},{\"attributes\":{\"plot\":null,\"text\":\"SVN Status\"},\"id\":\"57cdb5dd-0f2b-4bb9-b54f-ba82a521994f\",\"type\":\"Title\"},{\"attributes\":{},\"id\":\"abf04de2-559e-4f3d-b61f-03294dd703a0\",\"type\":\"BasicTickFormatter\"},{\"attributes\":{\"callback\":null,\"factors\":[\"~/project1_work\",\"~/project1_work1\",\"~/project1_work2\",\"~/project1_work3\",\"~/project1_work4\",\"~/project1_work5\",\"~/project1_work6\",\"~/project1_work7\",\"~/project1_work8\",\"~/project1_work9\",\"~/project1_work10\",\"~/project1_work11\"]},\"id\":\"7e980406-ff00-4510-90c5-980557234d35\",\"type\":\"FactorRange\"},{\"attributes\":{},\"id\":\"f1b74acf-7873-4f0c-b204-0188aa390a1b\",\"type\":\"BasicTicker\"},{\"attributes\":{\"active_drag\":\"auto\",\"active_inspect\":\"auto\",\"active_scroll\":\"auto\",\"active_tap\":\"auto\"},\"id\":\"3f53f1c3-4410-41ca-9e08-2e0298d1c919\",\"type\":\"Toolbar\"},{\"attributes\":{\"fill_color\":{\"value\":\"#1f77b4\"},\"line_color\":{\"value\":\"#1f77b4\"},\"top\":{\"field\":\"top\"},\"width\":{\"value\":0.3},\"x\":{\"field\":\"x\"}},\"id\":\"74ba2a0a-0703-4ec4-a12b-30774088dff3\",\"type\":\"VBar\"},{\"attributes\":{\"dimension\":1,\"plot\":{\"id\":\"f3ffebfa-886d-4948-a2d1-c858ade4a227\",\"subtype\":\"Figure\",\"type\":\"Plot\"},\"ticker\":{\"id\":\"f1b74acf-7873-4f0c-b204-0188aa390a1b\",\"type\":\"BasicTicker\"}},\"id\":\"23a70b6d-3914-427e-a245-094a0f62a1aa\",\"type\":\"Grid\"},{\"attributes\":{\"fill_alpha\":{\"value\":0.1},\"fill_color\":{\"value\":\"#1f77b4\"},\"line_alpha\":{\"value\":0.1},\"line_color\":{\"value\":\"#1f77b4\"},\"top\":{\"field\":\"top\"},\"width\":{\"value\":0.3},\"x\":{\"field\":\"x\"}},\"id\":\"1a482324-eaf9-43e9-b258-cd2a0d246675\",\"type\":\"VBar\"},{\"attributes\":{\"callback\":null,\"column_names\":[\"x\",\"top\"],\"data\":{\"top\":[0,1,2,3,4,5,0,1,2,3,4,5],\"x\":[\"~/project1_work\",\"~/project1_work1\",\"~/project1_work2\",\"~/project1_work3\",\"~/project1_work4\",\"~/project1_work5\",\"~/project1_work6\",\"~/project1_work7\",\"~/project1_work8\",\"~/project1_work9\",\"~/project1_work10\",\"~/project1_work11\"]},\"selected\":null,\"selection_policy\":null},\"id\":\"b5b1480a-bb64-41f5-8882-5d8c28cc1d66\",\"type\":\"ColumnDataSource\"},{\"attributes\":{\"data_source\":{\"id\":\"b5b1480a-bb64-41f5-8882-5d8c28cc1d66\",\"type\":\"ColumnDataSource\"},\"glyph\":{\"id\":\"74ba2a0a-0703-4ec4-a12b-30774088dff3\",\"type\":\"VBar\"},\"hover_glyph\":null,\"muted_glyph\":null,\"nonselection_glyph\":{\"id\":\"1a482324-eaf9-43e9-b258-cd2a0d246675\",\"type\":\"VBar\"},\"selection_glyph\":null,\"view\":{\"id\":\"5c713bfa-51bd-4563-9acc-f4d5537500b4\",\"type\":\"CDSView\"}},\"id\":\"c95329ef-c152-4ff2-ab86-7868ee5f3e1d\",\"type\":\"GlyphRenderer\"},{\"attributes\":{\"below\":[{\"id\":\"9a25e957-2d0c-4f99-abe3-3b46855417b5\",\"type\":\"CategoricalAxis\"}],\"left\":[{\"id\":\"298cb422-dece-48bd-be6c-e92838cb985f\",\"type\":\"LinearAxis\"}],\"plot_height\":250,\"renderers\":[{\"id\":\"9a25e957-2d0c-4f99-abe3-3b46855417b5\",\"type\":\"CategoricalAxis\"},{\"id\":\"884d1897-1b8a-43f1-a461-7a88baf1c84b\",\"type\":\"Grid\"},{\"id\":\"298cb422-dece-48bd-be6c-e92838cb985f\",\"type\":\"LinearAxis\"},{\"id\":\"23a70b6d-3914-427e-a245-094a0f62a1aa\",\"type\":\"Grid\"},{\"id\":\"c95329ef-c152-4ff2-ab86-7868ee5f3e1d\",\"type\":\"GlyphRenderer\"}],\"title\":{\"id\":\"57cdb5dd-0f2b-4bb9-b54f-ba82a521994f\",\"type\":\"Title\"},\"toolbar\":{\"id\":\"3f53f1c3-4410-41ca-9e08-2e0298d1c919\",\"type\":\"Toolbar\"},\"toolbar_location\":null,\"x_range\":{\"id\":\"7e980406-ff00-4510-90c5-980557234d35\",\"type\":\"FactorRange\"},\"x_scale\":{\"id\":\"653939e5-f4ec-4453-ba07-fe682a232494\",\"type\":\"CategoricalScale\"},\"y_range\":{\"id\":\"089dfcb5-26b5-4558-98b4-fa34e0168e57\",\"type\":\"DataRange1d\"},\"y_scale\":{\"id\":\"c2b96985-b056-4bf7-b4ff-913ad694ed15\",\"type\":\"LinearScale\"}},\"id\":\"f3ffebfa-886d-4948-a2d1-c858ade4a227\",\"subtype\":\"Figure\",\"type\":\"Plot\"}],\"root_ids\":[\"f3ffebfa-886d-4948-a2d1-c858ade4a227\"]},\"title\":\"Bokeh Application\",\"version\":\"0.12.15\"}};\n",
       "  var render_items = [{\"docid\":\"e11778f5-7ed6-431e-ad35-0404a5c00557\",\"elementid\":\"576aa00b-1841-4372-ad70-f322f365beef\",\"modelid\":\"f3ffebfa-886d-4948-a2d1-c858ade4a227\"}];\n",
       "  root.Bokeh.embed.embed_items_notebook(docs_json, render_items);\n",
       "\n",
       "  }\n",
       "  if (root.Bokeh !== undefined) {\n",
       "    embed_document(root);\n",
       "  } else {\n",
       "    var attempts = 0;\n",
       "    var timer = setInterval(function(root) {\n",
       "      if (root.Bokeh !== undefined) {\n",
       "        embed_document(root);\n",
       "        clearInterval(timer);\n",
       "      }\n",
       "      attempts++;\n",
       "      if (attempts > 100) {\n",
       "        console.log(\"Bokeh: ERROR: Unable to run BokehJS code because BokehJS library is missing\")\n",
       "        clearInterval(timer);\n",
       "      }\n",
       "    }, 10, root)\n",
       "  }\n",
       "})(window);"
      ],
      "application/vnd.bokehjs_exec.v0+json": ""
     },
     "metadata": {
      "application/vnd.bokehjs_exec.v0+json": {
       "id": "f3ffebfa-886d-4948-a2d1-c858ade4a227"
      }
     },
     "output_type": "display_data"
    }
   ],
   "source": [
    "paths = df_main['path'].tolist()\n",
    "\n",
    "p = figure(x_range=paths, plot_height=250, title=\"SVN Status\",\n",
    "           toolbar_location=None, tools=\"\")\n",
    "\n",
    "p.vbar(x=paths, top=df_main['state_val'].tolist(), width=0.3);\n",
    "show(p)"
   ]
  },
  {
   "cell_type": "markdown",
   "metadata": {},
   "source": [
    "# Add Basic Styling"
   ]
  },
  {
   "cell_type": "code",
   "execution_count": 7,
   "metadata": {},
   "outputs": [],
   "source": [
    "def style(p):\n",
    "    p.title.align = 'center'\n",
    "    p.title.text_font_size = '18pt'\n",
    "    p.xaxis.axis_label_text_font_size = '12pt'\n",
    "    p.xaxis.major_label_text_font_size = '12pt'\n",
    "    p.yaxis.axis_label_text_font_size = '12pt'\n",
    "    p.yaxis.major_label_text_font_size = '12pt'\n",
    "    \n",
    "    return p"
   ]
  },
  {
   "cell_type": "code",
   "execution_count": 8,
   "metadata": {},
   "outputs": [
    {
     "data": {
      "text/html": [
       "\n",
       "<div class=\"bk-root\">\n",
       "    <div class=\"bk-plotdiv\" id=\"f81dc504-5f11-42ba-ad8f-9da7a2436abb\"></div>\n",
       "</div>"
      ]
     },
     "metadata": {},
     "output_type": "display_data"
    },
    {
     "data": {
      "application/javascript": [
       "(function(root) {\n",
       "  function embed_document(root) {\n",
       "    \n",
       "  var docs_json = {\"4dc3c9b0-a393-4964-a723-a8c418d0dda1\":{\"roots\":{\"references\":[{\"attributes\":{\"axis_label_text_font_size\":{\"value\":\"12pt\"},\"formatter\":{\"id\":\"8b1fec19-0404-46f3-a2ec-c2da2e7a840f\",\"type\":\"CategoricalTickFormatter\"},\"major_label_text_font_size\":{\"value\":\"12pt\"},\"plot\":{\"id\":\"f3ffebfa-886d-4948-a2d1-c858ade4a227\",\"subtype\":\"Figure\",\"type\":\"Plot\"},\"ticker\":{\"id\":\"6ec6ed22-4dcc-4e10-b0b8-9d8448f460a5\",\"type\":\"CategoricalTicker\"}},\"id\":\"9a25e957-2d0c-4f99-abe3-3b46855417b5\",\"type\":\"CategoricalAxis\"},{\"attributes\":{},\"id\":\"8b1fec19-0404-46f3-a2ec-c2da2e7a840f\",\"type\":\"CategoricalTickFormatter\"},{\"attributes\":{},\"id\":\"653939e5-f4ec-4453-ba07-fe682a232494\",\"type\":\"CategoricalScale\"},{\"attributes\":{\"callback\":null},\"id\":\"089dfcb5-26b5-4558-98b4-fa34e0168e57\",\"type\":\"DataRange1d\"},{\"attributes\":{},\"id\":\"c2b96985-b056-4bf7-b4ff-913ad694ed15\",\"type\":\"LinearScale\"},{\"attributes\":{\"axis_label_text_font_size\":{\"value\":\"12pt\"},\"formatter\":{\"id\":\"abf04de2-559e-4f3d-b61f-03294dd703a0\",\"type\":\"BasicTickFormatter\"},\"major_label_text_font_size\":{\"value\":\"12pt\"},\"plot\":{\"id\":\"f3ffebfa-886d-4948-a2d1-c858ade4a227\",\"subtype\":\"Figure\",\"type\":\"Plot\"},\"ticker\":{\"id\":\"f1b74acf-7873-4f0c-b204-0188aa390a1b\",\"type\":\"BasicTicker\"}},\"id\":\"298cb422-dece-48bd-be6c-e92838cb985f\",\"type\":\"LinearAxis\"},{\"attributes\":{\"source\":{\"id\":\"b5b1480a-bb64-41f5-8882-5d8c28cc1d66\",\"type\":\"ColumnDataSource\"}},\"id\":\"5c713bfa-51bd-4563-9acc-f4d5537500b4\",\"type\":\"CDSView\"},{\"attributes\":{},\"id\":\"6ec6ed22-4dcc-4e10-b0b8-9d8448f460a5\",\"type\":\"CategoricalTicker\"},{\"attributes\":{\"plot\":{\"id\":\"f3ffebfa-886d-4948-a2d1-c858ade4a227\",\"subtype\":\"Figure\",\"type\":\"Plot\"},\"ticker\":{\"id\":\"6ec6ed22-4dcc-4e10-b0b8-9d8448f460a5\",\"type\":\"CategoricalTicker\"}},\"id\":\"884d1897-1b8a-43f1-a461-7a88baf1c84b\",\"type\":\"Grid\"},{\"attributes\":{\"align\":\"center\",\"plot\":null,\"text\":\"SVN Status\",\"text_font_size\":{\"value\":\"18pt\"}},\"id\":\"57cdb5dd-0f2b-4bb9-b54f-ba82a521994f\",\"type\":\"Title\"},{\"attributes\":{},\"id\":\"abf04de2-559e-4f3d-b61f-03294dd703a0\",\"type\":\"BasicTickFormatter\"},{\"attributes\":{\"callback\":null,\"factors\":[\"~/project1_work\",\"~/project1_work1\",\"~/project1_work2\",\"~/project1_work3\",\"~/project1_work4\",\"~/project1_work5\",\"~/project1_work6\",\"~/project1_work7\",\"~/project1_work8\",\"~/project1_work9\",\"~/project1_work10\",\"~/project1_work11\"]},\"id\":\"7e980406-ff00-4510-90c5-980557234d35\",\"type\":\"FactorRange\"},{\"attributes\":{},\"id\":\"f1b74acf-7873-4f0c-b204-0188aa390a1b\",\"type\":\"BasicTicker\"},{\"attributes\":{\"active_drag\":\"auto\",\"active_inspect\":\"auto\",\"active_scroll\":\"auto\",\"active_tap\":\"auto\"},\"id\":\"3f53f1c3-4410-41ca-9e08-2e0298d1c919\",\"type\":\"Toolbar\"},{\"attributes\":{\"fill_color\":{\"value\":\"#1f77b4\"},\"line_color\":{\"value\":\"#1f77b4\"},\"top\":{\"field\":\"top\"},\"width\":{\"value\":0.3},\"x\":{\"field\":\"x\"}},\"id\":\"74ba2a0a-0703-4ec4-a12b-30774088dff3\",\"type\":\"VBar\"},{\"attributes\":{\"dimension\":1,\"plot\":{\"id\":\"f3ffebfa-886d-4948-a2d1-c858ade4a227\",\"subtype\":\"Figure\",\"type\":\"Plot\"},\"ticker\":{\"id\":\"f1b74acf-7873-4f0c-b204-0188aa390a1b\",\"type\":\"BasicTicker\"}},\"id\":\"23a70b6d-3914-427e-a245-094a0f62a1aa\",\"type\":\"Grid\"},{\"attributes\":{\"fill_alpha\":{\"value\":0.1},\"fill_color\":{\"value\":\"#1f77b4\"},\"line_alpha\":{\"value\":0.1},\"line_color\":{\"value\":\"#1f77b4\"},\"top\":{\"field\":\"top\"},\"width\":{\"value\":0.3},\"x\":{\"field\":\"x\"}},\"id\":\"1a482324-eaf9-43e9-b258-cd2a0d246675\",\"type\":\"VBar\"},{\"attributes\":{\"callback\":null,\"column_names\":[\"x\",\"top\"],\"data\":{\"top\":[0,1,2,3,4,5,0,1,2,3,4,5],\"x\":[\"~/project1_work\",\"~/project1_work1\",\"~/project1_work2\",\"~/project1_work3\",\"~/project1_work4\",\"~/project1_work5\",\"~/project1_work6\",\"~/project1_work7\",\"~/project1_work8\",\"~/project1_work9\",\"~/project1_work10\",\"~/project1_work11\"]},\"selected\":null,\"selection_policy\":null},\"id\":\"b5b1480a-bb64-41f5-8882-5d8c28cc1d66\",\"type\":\"ColumnDataSource\"},{\"attributes\":{\"data_source\":{\"id\":\"b5b1480a-bb64-41f5-8882-5d8c28cc1d66\",\"type\":\"ColumnDataSource\"},\"glyph\":{\"id\":\"74ba2a0a-0703-4ec4-a12b-30774088dff3\",\"type\":\"VBar\"},\"hover_glyph\":null,\"muted_glyph\":null,\"nonselection_glyph\":{\"id\":\"1a482324-eaf9-43e9-b258-cd2a0d246675\",\"type\":\"VBar\"},\"selection_glyph\":null,\"view\":{\"id\":\"5c713bfa-51bd-4563-9acc-f4d5537500b4\",\"type\":\"CDSView\"}},\"id\":\"c95329ef-c152-4ff2-ab86-7868ee5f3e1d\",\"type\":\"GlyphRenderer\"},{\"attributes\":{\"below\":[{\"id\":\"9a25e957-2d0c-4f99-abe3-3b46855417b5\",\"type\":\"CategoricalAxis\"}],\"left\":[{\"id\":\"298cb422-dece-48bd-be6c-e92838cb985f\",\"type\":\"LinearAxis\"}],\"plot_height\":250,\"renderers\":[{\"id\":\"9a25e957-2d0c-4f99-abe3-3b46855417b5\",\"type\":\"CategoricalAxis\"},{\"id\":\"884d1897-1b8a-43f1-a461-7a88baf1c84b\",\"type\":\"Grid\"},{\"id\":\"298cb422-dece-48bd-be6c-e92838cb985f\",\"type\":\"LinearAxis\"},{\"id\":\"23a70b6d-3914-427e-a245-094a0f62a1aa\",\"type\":\"Grid\"},{\"id\":\"c95329ef-c152-4ff2-ab86-7868ee5f3e1d\",\"type\":\"GlyphRenderer\"}],\"title\":{\"id\":\"57cdb5dd-0f2b-4bb9-b54f-ba82a521994f\",\"type\":\"Title\"},\"toolbar\":{\"id\":\"3f53f1c3-4410-41ca-9e08-2e0298d1c919\",\"type\":\"Toolbar\"},\"toolbar_location\":null,\"x_range\":{\"id\":\"7e980406-ff00-4510-90c5-980557234d35\",\"type\":\"FactorRange\"},\"x_scale\":{\"id\":\"653939e5-f4ec-4453-ba07-fe682a232494\",\"type\":\"CategoricalScale\"},\"y_range\":{\"id\":\"089dfcb5-26b5-4558-98b4-fa34e0168e57\",\"type\":\"DataRange1d\"},\"y_scale\":{\"id\":\"c2b96985-b056-4bf7-b4ff-913ad694ed15\",\"type\":\"LinearScale\"}},\"id\":\"f3ffebfa-886d-4948-a2d1-c858ade4a227\",\"subtype\":\"Figure\",\"type\":\"Plot\"}],\"root_ids\":[\"f3ffebfa-886d-4948-a2d1-c858ade4a227\"]},\"title\":\"Bokeh Application\",\"version\":\"0.12.15\"}};\n",
       "  var render_items = [{\"docid\":\"4dc3c9b0-a393-4964-a723-a8c418d0dda1\",\"elementid\":\"f81dc504-5f11-42ba-ad8f-9da7a2436abb\",\"modelid\":\"f3ffebfa-886d-4948-a2d1-c858ade4a227\"}];\n",
       "  root.Bokeh.embed.embed_items_notebook(docs_json, render_items);\n",
       "\n",
       "  }\n",
       "  if (root.Bokeh !== undefined) {\n",
       "    embed_document(root);\n",
       "  } else {\n",
       "    var attempts = 0;\n",
       "    var timer = setInterval(function(root) {\n",
       "      if (root.Bokeh !== undefined) {\n",
       "        embed_document(root);\n",
       "        clearInterval(timer);\n",
       "      }\n",
       "      attempts++;\n",
       "      if (attempts > 100) {\n",
       "        console.log(\"Bokeh: ERROR: Unable to run BokehJS code because BokehJS library is missing\")\n",
       "        clearInterval(timer);\n",
       "      }\n",
       "    }, 10, root)\n",
       "  }\n",
       "})(window);"
      ],
      "application/vnd.bokehjs_exec.v0+json": ""
     },
     "metadata": {
      "application/vnd.bokehjs_exec.v0+json": {
       "id": "f3ffebfa-886d-4948-a2d1-c858ade4a227"
      }
     },
     "output_type": "display_data"
    }
   ],
   "source": [
    "styled_p = style(p)\n",
    "\n",
    "show(styled_p)"
   ]
  },
  {
   "cell_type": "markdown",
   "metadata": {},
   "source": [
    "#  Coloured vbar"
   ]
  },
  {
   "cell_type": "code",
   "execution_count": 9,
   "metadata": {},
   "outputs": [],
   "source": [
    "from bokeh.models import ColumnDataSource\n",
    "from bokeh.palettes import Spectral6\n",
    "from bokeh.transform import factor_cmap"
   ]
  },
  {
   "cell_type": "code",
   "execution_count": 10,
   "metadata": {},
   "outputs": [],
   "source": [
    "fruits = df_main['path'].tolist()\n",
    "counts = df_main['state_val'].tolist()\n",
    "repo_state = df_main['repo_state'].tolist()\n",
    "repo_state_unique = df_main['repo_state'].unique()"
   ]
  },
  {
   "cell_type": "code",
   "execution_count": 11,
   "metadata": {},
   "outputs": [],
   "source": [
    "colors_temp = factor_cmap('repo_state', palette=Spectral6, factors=repo_state_unique)"
   ]
  },
  {
   "cell_type": "code",
   "execution_count": 12,
   "metadata": {},
   "outputs": [
    {
     "data": {
      "text/html": [
       "\n",
       "<div class=\"bk-root\">\n",
       "    <div class=\"bk-plotdiv\" id=\"c94f7f0d-85a3-48a1-9e8a-0a83bb9b8b82\"></div>\n",
       "</div>"
      ]
     },
     "metadata": {},
     "output_type": "display_data"
    },
    {
     "data": {
      "application/javascript": [
       "(function(root) {\n",
       "  function embed_document(root) {\n",
       "    \n",
       "  var docs_json = {\"7d5c5377-0dc6-4878-ad9a-762be9e3d25d\":{\"roots\":{\"references\":[{\"attributes\":{\"bottom_units\":\"screen\",\"fill_alpha\":{\"value\":0.5},\"fill_color\":{\"value\":\"lightgrey\"},\"left_units\":\"screen\",\"level\":\"overlay\",\"line_alpha\":{\"value\":1.0},\"line_color\":{\"value\":\"black\"},\"line_dash\":[4,4],\"line_width\":{\"value\":2},\"plot\":null,\"render_mode\":\"css\",\"right_units\":\"screen\",\"top_units\":\"screen\"},\"id\":\"4e2e20e3-756c-4937-a2ea-2ab4d4c4666e\",\"type\":\"BoxAnnotation\"},{\"attributes\":{},\"id\":\"feb3a6c1-fbe8-4aaf-b317-f9ac26d9da16\",\"type\":\"BasicTickFormatter\"},{\"attributes\":{},\"id\":\"9d855f4c-40c4-4ebd-9302-ae6f8a6adbbc\",\"type\":\"PanTool\"},{\"attributes\":{},\"id\":\"865d3389-596d-4cad-a7fa-a50b5bb5667e\",\"type\":\"CategoricalScale\"},{\"attributes\":{\"active_drag\":\"auto\",\"active_inspect\":\"auto\",\"active_scroll\":\"auto\",\"active_tap\":\"auto\",\"tools\":[{\"id\":\"9d855f4c-40c4-4ebd-9302-ae6f8a6adbbc\",\"type\":\"PanTool\"},{\"id\":\"4ad89826-b76e-4f1a-8698-dfeb05a53dcb\",\"type\":\"WheelZoomTool\"},{\"id\":\"a34eb797-3c42-4422-a3a2-04103c08875e\",\"type\":\"BoxZoomTool\"},{\"id\":\"d93d0c00-3035-408a-abb0-3da5c6bcf551\",\"type\":\"SaveTool\"},{\"id\":\"8a6adce8-8a86-413c-ba10-f481b6a1d12c\",\"type\":\"ResetTool\"},{\"id\":\"802eee83-74f3-46f2-b0e3-97923d075162\",\"type\":\"HelpTool\"}]},\"id\":\"d7f8fd6d-97c0-4f6e-875e-8cfa521d7e16\",\"type\":\"Toolbar\"},{\"attributes\":{},\"id\":\"4ad89826-b76e-4f1a-8698-dfeb05a53dcb\",\"type\":\"WheelZoomTool\"},{\"attributes\":{\"callback\":null,\"end\":9,\"start\":0},\"id\":\"c1adc8f7-ba49-4ccc-a8e6-4d785854593e\",\"type\":\"DataRange1d\"},{\"attributes\":{\"label\":{\"field\":\"fruits\"},\"renderers\":[{\"id\":\"ac13e375-883e-4580-b9e6-6157d2b52715\",\"type\":\"GlyphRenderer\"}]},\"id\":\"865c1cd0-5832-469a-9307-5d3765728ff8\",\"type\":\"LegendItem\"},{\"attributes\":{\"overlay\":{\"id\":\"4e2e20e3-756c-4937-a2ea-2ab4d4c4666e\",\"type\":\"BoxAnnotation\"}},\"id\":\"a34eb797-3c42-4422-a3a2-04103c08875e\",\"type\":\"BoxZoomTool\"},{\"attributes\":{},\"id\":\"d93d0c00-3035-408a-abb0-3da5c6bcf551\",\"type\":\"SaveTool\"},{\"attributes\":{\"callback\":null,\"factors\":[\"~/project1_work\",\"~/project1_work1\",\"~/project1_work2\",\"~/project1_work3\",\"~/project1_work4\",\"~/project1_work5\",\"~/project1_work6\",\"~/project1_work7\",\"~/project1_work8\",\"~/project1_work9\",\"~/project1_work10\",\"~/project1_work11\"]},\"id\":\"fe908dcb-e206-4e41-8659-3114d6bf2f96\",\"type\":\"FactorRange\"},{\"attributes\":{\"below\":[{\"id\":\"401631fd-587b-4545-bf32-3df13af172a2\",\"type\":\"CategoricalAxis\"}],\"left\":[{\"id\":\"3e31a458-cff9-4627-8d84-74e82a7e2ff8\",\"type\":\"LinearAxis\"}],\"plot_height\":250,\"renderers\":[{\"id\":\"401631fd-587b-4545-bf32-3df13af172a2\",\"type\":\"CategoricalAxis\"},{\"id\":\"b274cfda-05fc-47e0-86a3-49526e4903cb\",\"type\":\"Grid\"},{\"id\":\"3e31a458-cff9-4627-8d84-74e82a7e2ff8\",\"type\":\"LinearAxis\"},{\"id\":\"43bf9891-7654-4537-b75e-65d5165468dc\",\"type\":\"Grid\"},{\"id\":\"4e2e20e3-756c-4937-a2ea-2ab4d4c4666e\",\"type\":\"BoxAnnotation\"},{\"id\":\"73d50e2e-6fbc-41c1-aac2-6de54582229d\",\"type\":\"Legend\"},{\"id\":\"ac13e375-883e-4580-b9e6-6157d2b52715\",\"type\":\"GlyphRenderer\"}],\"title\":{\"id\":\"8ec9cf33-b898-4f7c-bc32-759b14267f62\",\"type\":\"Title\"},\"toolbar\":{\"id\":\"d7f8fd6d-97c0-4f6e-875e-8cfa521d7e16\",\"type\":\"Toolbar\"},\"toolbar_location\":null,\"x_range\":{\"id\":\"fe908dcb-e206-4e41-8659-3114d6bf2f96\",\"type\":\"FactorRange\"},\"x_scale\":{\"id\":\"865d3389-596d-4cad-a7fa-a50b5bb5667e\",\"type\":\"CategoricalScale\"},\"y_range\":{\"id\":\"c1adc8f7-ba49-4ccc-a8e6-4d785854593e\",\"type\":\"DataRange1d\"},\"y_scale\":{\"id\":\"0ccb4b52-3eaf-4391-a903-6ee420945385\",\"type\":\"LinearScale\"}},\"id\":\"bf1cfec5-bbca-431e-80b6-21c3088fdea3\",\"subtype\":\"Figure\",\"type\":\"Plot\"},{\"attributes\":{},\"id\":\"8a6adce8-8a86-413c-ba10-f481b6a1d12c\",\"type\":\"ResetTool\"},{\"attributes\":{},\"id\":\"0ccb4b52-3eaf-4391-a903-6ee420945385\",\"type\":\"LinearScale\"},{\"attributes\":{},\"id\":\"802eee83-74f3-46f2-b0e3-97923d075162\",\"type\":\"HelpTool\"},{\"attributes\":{\"grid_line_color\":{\"value\":null},\"plot\":{\"id\":\"bf1cfec5-bbca-431e-80b6-21c3088fdea3\",\"subtype\":\"Figure\",\"type\":\"Plot\"},\"ticker\":{\"id\":\"640f3062-1dd1-4574-bf44-f8a03158ed59\",\"type\":\"CategoricalTicker\"}},\"id\":\"b274cfda-05fc-47e0-86a3-49526e4903cb\",\"type\":\"Grid\"},{\"attributes\":{\"formatter\":{\"id\":\"788ca7c6-726b-4381-b453-09f4c19705b5\",\"type\":\"CategoricalTickFormatter\"},\"plot\":{\"id\":\"bf1cfec5-bbca-431e-80b6-21c3088fdea3\",\"subtype\":\"Figure\",\"type\":\"Plot\"},\"ticker\":{\"id\":\"640f3062-1dd1-4574-bf44-f8a03158ed59\",\"type\":\"CategoricalTicker\"}},\"id\":\"401631fd-587b-4545-bf32-3df13af172a2\",\"type\":\"CategoricalAxis\"},{\"attributes\":{},\"id\":\"640f3062-1dd1-4574-bf44-f8a03158ed59\",\"type\":\"CategoricalTicker\"},{\"attributes\":{\"items\":[{\"id\":\"865c1cd0-5832-469a-9307-5d3765728ff8\",\"type\":\"LegendItem\"}],\"location\":\"top_center\",\"orientation\":\"horizontal\",\"plot\":{\"id\":\"bf1cfec5-bbca-431e-80b6-21c3088fdea3\",\"subtype\":\"Figure\",\"type\":\"Plot\"}},\"id\":\"73d50e2e-6fbc-41c1-aac2-6de54582229d\",\"type\":\"Legend\"},{\"attributes\":{},\"id\":\"788ca7c6-726b-4381-b453-09f4c19705b5\",\"type\":\"CategoricalTickFormatter\"},{\"attributes\":{\"formatter\":{\"id\":\"feb3a6c1-fbe8-4aaf-b317-f9ac26d9da16\",\"type\":\"BasicTickFormatter\"},\"plot\":{\"id\":\"bf1cfec5-bbca-431e-80b6-21c3088fdea3\",\"subtype\":\"Figure\",\"type\":\"Plot\"},\"ticker\":{\"id\":\"92855518-4424-4274-bbd1-8a05513433f3\",\"type\":\"BasicTicker\"}},\"id\":\"3e31a458-cff9-4627-8d84-74e82a7e2ff8\",\"type\":\"LinearAxis\"},{\"attributes\":{\"data_source\":{\"id\":\"d4aa7a5d-5b70-4609-bf05-96d6f787ae41\",\"type\":\"ColumnDataSource\"},\"glyph\":{\"id\":\"510241aa-00fc-40b3-8731-6efd56f79588\",\"type\":\"VBar\"},\"hover_glyph\":null,\"muted_glyph\":null,\"nonselection_glyph\":{\"id\":\"c4f34f48-2364-4746-a1d0-b0db21e88e09\",\"type\":\"VBar\"},\"selection_glyph\":null,\"view\":{\"id\":\"93f2ac7d-c26c-4538-b788-d819a7ca9b5f\",\"type\":\"CDSView\"}},\"id\":\"ac13e375-883e-4580-b9e6-6157d2b52715\",\"type\":\"GlyphRenderer\"},{\"attributes\":{},\"id\":\"92855518-4424-4274-bbd1-8a05513433f3\",\"type\":\"BasicTicker\"},{\"attributes\":{\"factors\":[\"clean\",\"dirty\"],\"palette\":[\"#3288bd\",\"#99d594\",\"#e6f598\",\"#fee08b\",\"#fc8d59\",\"#d53e4f\"]},\"id\":\"967406ea-9533-4bfd-a33f-df0f730e9dc7\",\"type\":\"CategoricalColorMapper\"},{\"attributes\":{\"dimension\":1,\"plot\":{\"id\":\"bf1cfec5-bbca-431e-80b6-21c3088fdea3\",\"subtype\":\"Figure\",\"type\":\"Plot\"},\"ticker\":{\"id\":\"92855518-4424-4274-bbd1-8a05513433f3\",\"type\":\"BasicTicker\"}},\"id\":\"43bf9891-7654-4537-b75e-65d5165468dc\",\"type\":\"Grid\"},{\"attributes\":{\"fill_color\":{\"field\":\"repo_state\",\"transform\":{\"id\":\"967406ea-9533-4bfd-a33f-df0f730e9dc7\",\"type\":\"CategoricalColorMapper\"}},\"line_color\":{\"value\":\"white\"},\"top\":{\"field\":\"counts\"},\"width\":{\"value\":0.4},\"x\":{\"field\":\"fruits\"}},\"id\":\"510241aa-00fc-40b3-8731-6efd56f79588\",\"type\":\"VBar\"},{\"attributes\":{\"source\":{\"id\":\"d4aa7a5d-5b70-4609-bf05-96d6f787ae41\",\"type\":\"ColumnDataSource\"}},\"id\":\"93f2ac7d-c26c-4538-b788-d819a7ca9b5f\",\"type\":\"CDSView\"},{\"attributes\":{\"plot\":null,\"text\":\"Fruit Counts\"},\"id\":\"8ec9cf33-b898-4f7c-bc32-759b14267f62\",\"type\":\"Title\"},{\"attributes\":{\"callback\":null,\"column_names\":[\"fruits\",\"counts\",\"repo_state\"],\"data\":{\"counts\":[0,1,2,3,4,5,0,1,2,3,4,5],\"fruits\":[\"~/project1_work\",\"~/project1_work1\",\"~/project1_work2\",\"~/project1_work3\",\"~/project1_work4\",\"~/project1_work5\",\"~/project1_work6\",\"~/project1_work7\",\"~/project1_work8\",\"~/project1_work9\",\"~/project1_work10\",\"~/project1_work11\"],\"repo_state\":[\"clean\",\"dirty\",\"dirty\",\"clean\",\"dirty\",\"clean\",\"clean\",\"dirty\",\"dirty\",\"clean\",\"dirty\",\"clean\"]},\"selected\":null,\"selection_policy\":null},\"id\":\"d4aa7a5d-5b70-4609-bf05-96d6f787ae41\",\"type\":\"ColumnDataSource\"},{\"attributes\":{\"fill_alpha\":{\"value\":0.1},\"fill_color\":{\"value\":\"#1f77b4\"},\"line_alpha\":{\"value\":0.1},\"line_color\":{\"value\":\"#1f77b4\"},\"top\":{\"field\":\"counts\"},\"width\":{\"value\":0.4},\"x\":{\"field\":\"fruits\"}},\"id\":\"c4f34f48-2364-4746-a1d0-b0db21e88e09\",\"type\":\"VBar\"}],\"root_ids\":[\"bf1cfec5-bbca-431e-80b6-21c3088fdea3\"]},\"title\":\"Bokeh Application\",\"version\":\"0.12.15\"}};\n",
       "  var render_items = [{\"docid\":\"7d5c5377-0dc6-4878-ad9a-762be9e3d25d\",\"elementid\":\"c94f7f0d-85a3-48a1-9e8a-0a83bb9b8b82\",\"modelid\":\"bf1cfec5-bbca-431e-80b6-21c3088fdea3\"}];\n",
       "  root.Bokeh.embed.embed_items_notebook(docs_json, render_items);\n",
       "\n",
       "  }\n",
       "  if (root.Bokeh !== undefined) {\n",
       "    embed_document(root);\n",
       "  } else {\n",
       "    var attempts = 0;\n",
       "    var timer = setInterval(function(root) {\n",
       "      if (root.Bokeh !== undefined) {\n",
       "        embed_document(root);\n",
       "        clearInterval(timer);\n",
       "      }\n",
       "      attempts++;\n",
       "      if (attempts > 100) {\n",
       "        console.log(\"Bokeh: ERROR: Unable to run BokehJS code because BokehJS library is missing\")\n",
       "        clearInterval(timer);\n",
       "      }\n",
       "    }, 10, root)\n",
       "  }\n",
       "})(window);"
      ],
      "application/vnd.bokehjs_exec.v0+json": ""
     },
     "metadata": {
      "application/vnd.bokehjs_exec.v0+json": {
       "id": "bf1cfec5-bbca-431e-80b6-21c3088fdea3"
      }
     },
     "output_type": "display_data"
    }
   ],
   "source": [
    "source = ColumnDataSource(data=dict(fruits=fruits, counts=counts, repo_state=repo_state))\n",
    "\n",
    "p = figure(x_range=fruits, plot_height=250, toolbar_location=None, title=\"Fruit Counts\")\n",
    "p.vbar(x='fruits', top='counts', width=0.4, source=source, legend=\"fruits\",\n",
    "       line_color='white', fill_color=colors_temp)\n",
    "\n",
    "p.xgrid.grid_line_color = None\n",
    "p.y_range.start = 0\n",
    "p.y_range.end = 9\n",
    "p.legend.orientation = \"horizontal\"\n",
    "p.legend.location = \"top_center\"\n",
    "\n",
    "show(p)"
   ]
  },
  {
   "cell_type": "markdown",
   "metadata": {},
   "source": [
    "# Column Data Source"
   ]
  },
  {
   "cell_type": "code",
   "execution_count": 13,
   "metadata": {},
   "outputs": [],
   "source": [
    "# arr_df = pd.DataFrame({'count': arr_hist, 'left': edges[:-1], 'right': edges[1:]})\n",
    "# arr_df['f_count'] = ['%d flights' % count for count in arr_df['count']]\n",
    "# arr_df['f_interval'] = ['%d to %d minutes' % (left, right) for left, right in zip(arr_df['left'], arr_df['right'])]\n",
    "\n",
    "# arr_df.head()"
   ]
  },
  {
   "cell_type": "code",
   "execution_count": 14,
   "metadata": {},
   "outputs": [],
   "source": [
    "# arr_src = ColumnDataSource(arr_df)"
   ]
  },
  {
   "cell_type": "code",
   "execution_count": 15,
   "metadata": {},
   "outputs": [],
   "source": [
    "# arr_src.data.keys()"
   ]
  },
  {
   "cell_type": "markdown",
   "metadata": {},
   "source": [
    "# Add in Tooltips on Hover"
   ]
  },
  {
   "cell_type": "code",
   "execution_count": 16,
   "metadata": {},
   "outputs": [],
   "source": [
    "fruits = df_main['path'].tolist()\n",
    "counts = df_main['state_val'].tolist()\n",
    "repo_state = df_main['repo_state'].tolist()\n",
    "repo_state_unique = df_main['repo_state'].unique()\n",
    "owner = df_main['owner'].tolist()"
   ]
  },
  {
   "cell_type": "code",
   "execution_count": 17,
   "metadata": {},
   "outputs": [],
   "source": [
    "colors_temp = factor_cmap('repo_state', palette=Spectral6, factors=repo_state_unique)"
   ]
  },
  {
   "cell_type": "code",
   "execution_count": 18,
   "metadata": {},
   "outputs": [
    {
     "data": {
      "text/html": [
       "\n",
       "<div class=\"bk-root\">\n",
       "    <div class=\"bk-plotdiv\" id=\"637ef1cf-dc09-48cf-8ae0-cb14540d6974\"></div>\n",
       "</div>"
      ]
     },
     "metadata": {},
     "output_type": "display_data"
    },
    {
     "data": {
      "application/javascript": [
       "(function(root) {\n",
       "  function embed_document(root) {\n",
       "    \n",
       "  var docs_json = {\"255ee6d3-b809-4c27-9d40-fd3fed4b6471\":{\"roots\":{\"references\":[{\"attributes\":{\"callback\":null,\"tooltips\":[[\"Path\",\"@fruits\"],[\"Owner\",\"@owner\"]]},\"id\":\"c2e1b92f-a5e2-40ca-8329-9984d43a64ad\",\"type\":\"HoverTool\"},{\"attributes\":{},\"id\":\"b3bd9e7a-4ae8-443d-be13-1114c4ab860d\",\"type\":\"CategoricalTickFormatter\"},{\"attributes\":{\"source\":{\"id\":\"20765108-c2b5-4053-890c-1ee2cff91845\",\"type\":\"ColumnDataSource\"}},\"id\":\"10b06fe4-6a15-4f41-90d9-88fd458e324a\",\"type\":\"CDSView\"},{\"attributes\":{\"bottom_units\":\"screen\",\"fill_alpha\":{\"value\":0.5},\"fill_color\":{\"value\":\"lightgrey\"},\"left_units\":\"screen\",\"level\":\"overlay\",\"line_alpha\":{\"value\":1.0},\"line_color\":{\"value\":\"black\"},\"line_dash\":[4,4],\"line_width\":{\"value\":2},\"plot\":null,\"render_mode\":\"css\",\"right_units\":\"screen\",\"top_units\":\"screen\"},\"id\":\"1a6e67a7-eea8-4c8e-83dc-7019b167bcad\",\"type\":\"BoxAnnotation\"},{\"attributes\":{\"plot\":null,\"text\":\"Fruit Counts\"},\"id\":\"d91d1b71-ccda-4b64-af87-3d77b00ad8bd\",\"type\":\"Title\"},{\"attributes\":{\"fill_color\":{\"field\":\"repo_state\",\"transform\":{\"id\":\"633b5638-7c8c-478f-8fb5-33117c8f303b\",\"type\":\"CategoricalColorMapper\"}},\"line_color\":{\"value\":\"white\"},\"top\":{\"field\":\"counts\"},\"width\":{\"value\":0.4},\"x\":{\"field\":\"fruits\"}},\"id\":\"718a5824-b237-457d-82d7-7913f7695774\",\"type\":\"VBar\"},{\"attributes\":{},\"id\":\"6ad27227-0d34-4af8-81ae-af9ab6e58c32\",\"type\":\"BasicTickFormatter\"},{\"attributes\":{},\"id\":\"eb2ddf9e-22af-4413-be18-ed47d05f9b1b\",\"type\":\"PanTool\"},{\"attributes\":{\"below\":[{\"id\":\"0ebf4811-3c60-46ac-83b9-26184d4dd3b8\",\"type\":\"CategoricalAxis\"}],\"left\":[{\"id\":\"9d2b78b1-7119-4f82-97d0-feba75febb79\",\"type\":\"LinearAxis\"}],\"plot_height\":250,\"plot_width\":1000,\"renderers\":[{\"id\":\"0ebf4811-3c60-46ac-83b9-26184d4dd3b8\",\"type\":\"CategoricalAxis\"},{\"id\":\"63ad8c35-ac22-4d33-ae17-17428a127598\",\"type\":\"Grid\"},{\"id\":\"9d2b78b1-7119-4f82-97d0-feba75febb79\",\"type\":\"LinearAxis\"},{\"id\":\"211af935-2b41-4b99-828a-8201efbe242a\",\"type\":\"Grid\"},{\"id\":\"1a6e67a7-eea8-4c8e-83dc-7019b167bcad\",\"type\":\"BoxAnnotation\"},{\"id\":\"2e57b024-5365-4434-9631-4e59520c790a\",\"type\":\"Legend\"},{\"id\":\"08a9b26b-f85d-4dae-b6d4-aec78cab7e82\",\"type\":\"GlyphRenderer\"}],\"title\":{\"id\":\"d91d1b71-ccda-4b64-af87-3d77b00ad8bd\",\"type\":\"Title\"},\"toolbar\":{\"id\":\"bc562e4b-ec60-4dac-95eb-ba58e7ee7005\",\"type\":\"Toolbar\"},\"toolbar_location\":null,\"x_range\":{\"id\":\"4c5b2c24-0e24-4dd0-95f4-5b2276fea279\",\"type\":\"FactorRange\"},\"x_scale\":{\"id\":\"0519b7d1-76ff-421a-a900-4b96a535090d\",\"type\":\"CategoricalScale\"},\"y_range\":{\"id\":\"b16568b8-4f94-4752-af1c-e5a3c5b0223a\",\"type\":\"DataRange1d\"},\"y_scale\":{\"id\":\"c705ea64-1530-4ae1-b26d-44dbc9ddc7a3\",\"type\":\"LinearScale\"}},\"id\":\"59e78cce-f45f-4b12-8ba3-db47e1bc8300\",\"subtype\":\"Figure\",\"type\":\"Plot\"},{\"attributes\":{\"active_drag\":\"auto\",\"active_inspect\":\"auto\",\"active_scroll\":\"auto\",\"active_tap\":\"auto\",\"tools\":[{\"id\":\"eb2ddf9e-22af-4413-be18-ed47d05f9b1b\",\"type\":\"PanTool\"},{\"id\":\"6c0b7199-5239-4d07-b1a6-6bbbbd769559\",\"type\":\"WheelZoomTool\"},{\"id\":\"5150db8b-57f7-4156-a536-f452682f163a\",\"type\":\"BoxZoomTool\"},{\"id\":\"17a7ba23-ad5a-4e64-a4c2-269edfd00c40\",\"type\":\"SaveTool\"},{\"id\":\"c2448dda-9cfd-4d0e-a484-d14abb9b5d38\",\"type\":\"ResetTool\"},{\"id\":\"df8f9557-01e9-48f0-beb1-edf2a6bd471e\",\"type\":\"HelpTool\"},{\"id\":\"c2e1b92f-a5e2-40ca-8329-9984d43a64ad\",\"type\":\"HoverTool\"}]},\"id\":\"bc562e4b-ec60-4dac-95eb-ba58e7ee7005\",\"type\":\"Toolbar\"},{\"attributes\":{},\"id\":\"6c0b7199-5239-4d07-b1a6-6bbbbd769559\",\"type\":\"WheelZoomTool\"},{\"attributes\":{\"formatter\":{\"id\":\"6ad27227-0d34-4af8-81ae-af9ab6e58c32\",\"type\":\"BasicTickFormatter\"},\"plot\":{\"id\":\"59e78cce-f45f-4b12-8ba3-db47e1bc8300\",\"subtype\":\"Figure\",\"type\":\"Plot\"},\"ticker\":{\"id\":\"8dc7ce0f-5e28-4438-99ea-b3c6c4ce835a\",\"type\":\"BasicTicker\"}},\"id\":\"9d2b78b1-7119-4f82-97d0-feba75febb79\",\"type\":\"LinearAxis\"},{\"attributes\":{\"factors\":[\"clean\",\"dirty\"],\"palette\":[\"#3288bd\",\"#99d594\",\"#e6f598\",\"#fee08b\",\"#fc8d59\",\"#d53e4f\"]},\"id\":\"633b5638-7c8c-478f-8fb5-33117c8f303b\",\"type\":\"CategoricalColorMapper\"},{\"attributes\":{\"overlay\":{\"id\":\"1a6e67a7-eea8-4c8e-83dc-7019b167bcad\",\"type\":\"BoxAnnotation\"}},\"id\":\"5150db8b-57f7-4156-a536-f452682f163a\",\"type\":\"BoxZoomTool\"},{\"attributes\":{},\"id\":\"17a7ba23-ad5a-4e64-a4c2-269edfd00c40\",\"type\":\"SaveTool\"},{\"attributes\":{\"callback\":null,\"factors\":[\"~/project1_work\",\"~/project1_work1\",\"~/project1_work2\",\"~/project1_work3\",\"~/project1_work4\",\"~/project1_work5\",\"~/project1_work6\",\"~/project1_work7\",\"~/project1_work8\",\"~/project1_work9\",\"~/project1_work10\",\"~/project1_work11\"]},\"id\":\"4c5b2c24-0e24-4dd0-95f4-5b2276fea279\",\"type\":\"FactorRange\"},{\"attributes\":{\"callback\":null,\"column_names\":[\"fruits\",\"counts\",\"repo_state\",\"owner\"],\"data\":{\"counts\":[0,1,2,3,4,5,0,1,2,3,4,5],\"fruits\":[\"~/project1_work\",\"~/project1_work1\",\"~/project1_work2\",\"~/project1_work3\",\"~/project1_work4\",\"~/project1_work5\",\"~/project1_work6\",\"~/project1_work7\",\"~/project1_work8\",\"~/project1_work9\",\"~/project1_work10\",\"~/project1_work11\"],\"owner\":[\"Sarath M\",\"Sarath M\",\"Sarath M\",\"Sarath M\",\"Sarath M\",\"Sarath M\",\"Sarath M\",\"Sarath M\",\"Sarath M\",\"Sarath M\",\"Sarath M\",\"Sarath M\"],\"repo_state\":[\"clean\",\"dirty\",\"dirty\",\"clean\",\"dirty\",\"clean\",\"clean\",\"dirty\",\"dirty\",\"clean\",\"dirty\",\"clean\"]},\"selected\":null,\"selection_policy\":null},\"id\":\"20765108-c2b5-4053-890c-1ee2cff91845\",\"type\":\"ColumnDataSource\"},{\"attributes\":{},\"id\":\"c2448dda-9cfd-4d0e-a484-d14abb9b5d38\",\"type\":\"ResetTool\"},{\"attributes\":{},\"id\":\"0519b7d1-76ff-421a-a900-4b96a535090d\",\"type\":\"CategoricalScale\"},{\"attributes\":{\"items\":[{\"id\":\"cf1e841f-fe15-45b3-a3f1-295d1d3c75e8\",\"type\":\"LegendItem\"}],\"location\":\"top_center\",\"orientation\":\"horizontal\",\"plot\":{\"id\":\"59e78cce-f45f-4b12-8ba3-db47e1bc8300\",\"subtype\":\"Figure\",\"type\":\"Plot\"}},\"id\":\"2e57b024-5365-4434-9631-4e59520c790a\",\"type\":\"Legend\"},{\"attributes\":{\"callback\":null,\"end\":9,\"start\":0},\"id\":\"b16568b8-4f94-4752-af1c-e5a3c5b0223a\",\"type\":\"DataRange1d\"},{\"attributes\":{},\"id\":\"df8f9557-01e9-48f0-beb1-edf2a6bd471e\",\"type\":\"HelpTool\"},{\"attributes\":{\"label\":{\"field\":\"fruits\"},\"renderers\":[{\"id\":\"08a9b26b-f85d-4dae-b6d4-aec78cab7e82\",\"type\":\"GlyphRenderer\"}]},\"id\":\"cf1e841f-fe15-45b3-a3f1-295d1d3c75e8\",\"type\":\"LegendItem\"},{\"attributes\":{},\"id\":\"c705ea64-1530-4ae1-b26d-44dbc9ddc7a3\",\"type\":\"LinearScale\"},{\"attributes\":{\"grid_line_color\":{\"value\":null},\"plot\":{\"id\":\"59e78cce-f45f-4b12-8ba3-db47e1bc8300\",\"subtype\":\"Figure\",\"type\":\"Plot\"},\"ticker\":{\"id\":\"a8eb43d2-bbc2-41c7-bbef-c72bbfdfb69c\",\"type\":\"CategoricalTicker\"}},\"id\":\"63ad8c35-ac22-4d33-ae17-17428a127598\",\"type\":\"Grid\"},{\"attributes\":{\"formatter\":{\"id\":\"b3bd9e7a-4ae8-443d-be13-1114c4ab860d\",\"type\":\"CategoricalTickFormatter\"},\"plot\":{\"id\":\"59e78cce-f45f-4b12-8ba3-db47e1bc8300\",\"subtype\":\"Figure\",\"type\":\"Plot\"},\"ticker\":{\"id\":\"a8eb43d2-bbc2-41c7-bbef-c72bbfdfb69c\",\"type\":\"CategoricalTicker\"}},\"id\":\"0ebf4811-3c60-46ac-83b9-26184d4dd3b8\",\"type\":\"CategoricalAxis\"},{\"attributes\":{},\"id\":\"a8eb43d2-bbc2-41c7-bbef-c72bbfdfb69c\",\"type\":\"CategoricalTicker\"},{\"attributes\":{\"fill_alpha\":{\"value\":0.1},\"fill_color\":{\"value\":\"#1f77b4\"},\"line_alpha\":{\"value\":0.1},\"line_color\":{\"value\":\"#1f77b4\"},\"top\":{\"field\":\"counts\"},\"width\":{\"value\":0.4},\"x\":{\"field\":\"fruits\"}},\"id\":\"269fc9d0-6aed-4b42-9f19-b13008cccac4\",\"type\":\"VBar\"},{\"attributes\":{},\"id\":\"8dc7ce0f-5e28-4438-99ea-b3c6c4ce835a\",\"type\":\"BasicTicker\"},{\"attributes\":{\"dimension\":1,\"plot\":{\"id\":\"59e78cce-f45f-4b12-8ba3-db47e1bc8300\",\"subtype\":\"Figure\",\"type\":\"Plot\"},\"ticker\":{\"id\":\"8dc7ce0f-5e28-4438-99ea-b3c6c4ce835a\",\"type\":\"BasicTicker\"}},\"id\":\"211af935-2b41-4b99-828a-8201efbe242a\",\"type\":\"Grid\"},{\"attributes\":{\"data_source\":{\"id\":\"20765108-c2b5-4053-890c-1ee2cff91845\",\"type\":\"ColumnDataSource\"},\"glyph\":{\"id\":\"718a5824-b237-457d-82d7-7913f7695774\",\"type\":\"VBar\"},\"hover_glyph\":null,\"muted_glyph\":null,\"nonselection_glyph\":{\"id\":\"269fc9d0-6aed-4b42-9f19-b13008cccac4\",\"type\":\"VBar\"},\"selection_glyph\":null,\"view\":{\"id\":\"10b06fe4-6a15-4f41-90d9-88fd458e324a\",\"type\":\"CDSView\"}},\"id\":\"08a9b26b-f85d-4dae-b6d4-aec78cab7e82\",\"type\":\"GlyphRenderer\"}],\"root_ids\":[\"59e78cce-f45f-4b12-8ba3-db47e1bc8300\"]},\"title\":\"Bokeh Application\",\"version\":\"0.12.15\"}};\n",
       "  var render_items = [{\"docid\":\"255ee6d3-b809-4c27-9d40-fd3fed4b6471\",\"elementid\":\"637ef1cf-dc09-48cf-8ae0-cb14540d6974\",\"modelid\":\"59e78cce-f45f-4b12-8ba3-db47e1bc8300\"}];\n",
       "  root.Bokeh.embed.embed_items_notebook(docs_json, render_items);\n",
       "\n",
       "  }\n",
       "  if (root.Bokeh !== undefined) {\n",
       "    embed_document(root);\n",
       "  } else {\n",
       "    var attempts = 0;\n",
       "    var timer = setInterval(function(root) {\n",
       "      if (root.Bokeh !== undefined) {\n",
       "        embed_document(root);\n",
       "        clearInterval(timer);\n",
       "      }\n",
       "      attempts++;\n",
       "      if (attempts > 100) {\n",
       "        console.log(\"Bokeh: ERROR: Unable to run BokehJS code because BokehJS library is missing\")\n",
       "        clearInterval(timer);\n",
       "      }\n",
       "    }, 10, root)\n",
       "  }\n",
       "})(window);"
      ],
      "application/vnd.bokehjs_exec.v0+json": ""
     },
     "metadata": {
      "application/vnd.bokehjs_exec.v0+json": {
       "id": "59e78cce-f45f-4b12-8ba3-db47e1bc8300"
      }
     },
     "output_type": "display_data"
    }
   ],
   "source": [
    "source = ColumnDataSource(data=dict(fruits=fruits, counts=counts, repo_state=repo_state, owner=owner))\n",
    "\n",
    "p = figure(x_range=fruits, plot_height=250, plot_width=1000, toolbar_location=None, title=\"Fruit Counts\")\n",
    "p.vbar(x='fruits', top='counts', width=0.4, source=source, legend=\"fruits\",\n",
    "       line_color='white', fill_color=colors_temp)\n",
    "\n",
    "p.xgrid.grid_line_color = None\n",
    "p.y_range.start = 0\n",
    "p.y_range.end = 9\n",
    "p.legend.orientation = \"horizontal\"\n",
    "p.legend.location = \"top_center\"\n",
    "# # Add a hover tool referring to the formatted columns\n",
    "hover = HoverTool(tooltips = [('Path', '@fruits'),\n",
    "                              ('Owner', '@owner')])\n",
    "\n",
    "# # # Add the hover tool to the graph\n",
    "p.add_tools(hover)\n",
    "show(p)"
   ]
  }
 ],
 "metadata": {
  "kernelspec": {
   "display_name": "Python 3",
   "language": "python",
   "name": "python3"
  },
  "language_info": {
   "codemirror_mode": {
    "name": "ipython",
    "version": 3
   },
   "file_extension": ".py",
   "mimetype": "text/x-python",
   "name": "python",
   "nbconvert_exporter": "python",
   "pygments_lexer": "ipython3",
   "version": "3.6.4"
  }
 },
 "nbformat": 4,
 "nbformat_minor": 2
}
